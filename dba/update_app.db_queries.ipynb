{
 "cells": [
  {
   "cell_type": "code",
   "execution_count": 1,
   "id": "victorian-symbol",
   "metadata": {},
   "outputs": [],
   "source": [
    "import sqlite3, config\n",
    "import pandas as pd"
   ]
  },
  {
   "cell_type": "code",
   "execution_count": 2,
   "id": "associate-moment",
   "metadata": {},
   "outputs": [],
   "source": [
    "conn = sqlite3.connect(config.DB_FILE)\n",
    "cursor = conn.cursor()"
   ]
  },
  {
   "cell_type": "code",
   "execution_count": null,
   "id": "raised-diameter",
   "metadata": {},
   "outputs": [],
   "source": [
    "q = \"\"\"\n",
    "    SELECT *\n",
    "    FROM stock\n",
    "    LIMIT 20\n",
    "    \"\"\"\n",
    "\n",
    "df = pd.read_sql(q, conn)\n",
    "df.head()"
   ]
  },
  {
   "cell_type": "markdown",
   "id": "forbidden-anger",
   "metadata": {},
   "source": [
    "## Adding backtest_data column to stock table"
   ]
  },
  {
   "cell_type": "markdown",
   "id": "whole-efficiency",
   "metadata": {},
   "source": [
    "Adding a backtest_data column to the stock table. It will be a simple boolean column.\n",
    "\n",
    "This will be used to populate a list of available stocks that can be used when testing strategies on the backtesting page."
   ]
  },
  {
   "cell_type": "code",
   "execution_count": null,
   "id": "southern-newman",
   "metadata": {},
   "outputs": [],
   "source": [
    "# cursor.execute(\"\"\"\n",
    "#     ALTER TABLE stock\n",
    "#     ADD backtest_data BOOLEAN NOT NULL\n",
    "#     DEFAULT 0;\n",
    "# \"\"\")"
   ]
  },
  {
   "cell_type": "markdown",
   "id": "mental-interim",
   "metadata": {},
   "source": [
    "confirm "
   ]
  },
  {
   "cell_type": "code",
   "execution_count": null,
   "id": "prerequisite-bangladesh",
   "metadata": {},
   "outputs": [],
   "source": [
    "df = pd.read_sql(q, conn)\n",
    "df.head()"
   ]
  },
  {
   "cell_type": "markdown",
   "id": "mechanical-coordinate",
   "metadata": {},
   "source": [
    "### Update backtest_data "
   ]
  },
  {
   "cell_type": "markdown",
   "id": "fabulous-syndication",
   "metadata": {},
   "source": [
    "Eventually will add this update to the populate_minute_date script"
   ]
  },
  {
   "cell_type": "code",
   "execution_count": null,
   "id": "unlike-glossary",
   "metadata": {},
   "outputs": [],
   "source": [
    "q = \"\"\"\n",
    "    SELECT DISTINCT stock_id\n",
    "    FROM stock_price_minute\n",
    "    \"\"\"\n",
    "\n",
    "df = pd.read_sql(q, conn)\n",
    "df.head()"
   ]
  },
  {
   "cell_type": "code",
   "execution_count": null,
   "id": "congressional-judge",
   "metadata": {},
   "outputs": [],
   "source": [
    "backtest_stocks = df.stock_id.drop_duplicates().tolist()\n",
    "len(backtest_stocks)"
   ]
  },
  {
   "cell_type": "code",
   "execution_count": null,
   "id": "employed-vanilla",
   "metadata": {},
   "outputs": [],
   "source": [
    "backtest_stocks = tuple(backtest_stocks)"
   ]
  },
  {
   "cell_type": "code",
   "execution_count": null,
   "id": "diagnostic-probability",
   "metadata": {},
   "outputs": [],
   "source": [
    "q = \"\"\"\n",
    "    SELECT id, name\n",
    "    FROM stock\n",
    "    WHERE id IN {}\n",
    "    \"\"\".format(backtest_stocks)\n",
    "\n",
    "df = pd.read_sql(q, conn)\n",
    "df.head()"
   ]
  },
  {
   "cell_type": "markdown",
   "id": "defined-chicken",
   "metadata": {},
   "source": [
    "UPDATE backtest_data column:"
   ]
  },
  {
   "cell_type": "code",
   "execution_count": null,
   "id": "functional-gateway",
   "metadata": {},
   "outputs": [],
   "source": [
    "cursor.execute(\"\"\"\n",
    "    UPDATE stock\n",
    "    SET backtest_data = 1\n",
    "    WHERE id IN {}\n",
    "\"\"\".format(backtest_stocks))"
   ]
  },
  {
   "cell_type": "code",
   "execution_count": null,
   "id": "banned-nirvana",
   "metadata": {},
   "outputs": [],
   "source": [
    "conn.commit()"
   ]
  },
  {
   "cell_type": "markdown",
   "id": "respiratory-technical",
   "metadata": {},
   "source": [
    "confirm"
   ]
  },
  {
   "cell_type": "code",
   "execution_count": null,
   "id": "referenced-channels",
   "metadata": {},
   "outputs": [],
   "source": [
    "q = \"\"\"\n",
    "    SELECT id, name, backtest_data\n",
    "    FROM stock\n",
    "    WHERE backtest_data = 1\n",
    "    \"\"\"\n",
    "\n",
    "df = pd.read_sql(q, conn)\n",
    "df.head(20)"
   ]
  },
  {
   "cell_type": "code",
   "execution_count": null,
   "id": "leading-screening",
   "metadata": {},
   "outputs": [],
   "source": []
  },
  {
   "cell_type": "markdown",
   "id": "cordless-naples",
   "metadata": {},
   "source": [
    "## Create backtest_config table"
   ]
  },
  {
   "cell_type": "code",
   "execution_count": null,
   "id": "editorial-setting",
   "metadata": {},
   "outputs": [],
   "source": [
    "cursor.execute(\"\"\"\n",
    "    CREATE TABLE IF NOT EXISTS backtest_config (\n",
    "        run_id INTEGER PRIMARY KEY,\n",
    "        date NOT NULL,\n",
    "        stock_id INTEGER,\n",
    "        strategy NOT NULL,\n",
    "        bt_start NOT NULL,\n",
    "        bt_end NOT NULL,\n",
    "        set_cash INTEGER NOT NULL,\n",
    "        open_range INTEGER NOT NULL,\n",
    "        liquidate_time INTEGER NOT NULL,\n",
    "        FOREIGN KEY (stock_id) REFERENCES stock (id)\n",
    "    )\n",
    "\"\"\")"
   ]
  },
  {
   "cell_type": "code",
   "execution_count": null,
   "id": "cheap-coalition",
   "metadata": {},
   "outputs": [],
   "source": [
    "conn.commit()"
   ]
  },
  {
   "cell_type": "code",
   "execution_count": null,
   "id": "military-trainer",
   "metadata": {},
   "outputs": [],
   "source": [
    "q = \"\"\"\n",
    "    SELECT *\n",
    "    FROM backtest_config\n",
    "    \"\"\"\n",
    "\n",
    "df = pd.read_sql(q, conn)\n",
    "df.head(20)"
   ]
  },
  {
   "cell_type": "code",
   "execution_count": null,
   "id": "available-hopkins",
   "metadata": {},
   "outputs": [],
   "source": []
  },
  {
   "cell_type": "markdown",
   "id": "together-anime",
   "metadata": {},
   "source": [
    "## Create backtest_report table"
   ]
  },
  {
   "cell_type": "code",
   "execution_count": 3,
   "id": "executed-shanghai",
   "metadata": {},
   "outputs": [
    {
     "data": {
      "text/plain": [
       "<sqlite3.Cursor at 0x10dbd2f10>"
      ]
     },
     "execution_count": 3,
     "metadata": {},
     "output_type": "execute_result"
    }
   ],
   "source": [
    "cursor.execute(\"\"\"\n",
    "    CREATE TABLE IF NOT EXISTS backtest_report (\n",
    "        run_id INTEGER,\n",
    "        start_cash INTEGER,\n",
    "        rpl REAL,\n",
    "        result_won_trades REAL,\n",
    "        result_lost_trades REAL,\n",
    "        profit_factor REAL,\n",
    "        rpl_per_trade REAL,\n",
    "        total_return REAL,\n",
    "        annual_return REAL,\n",
    "        max_money_drawdown REAL,\n",
    "        max_pct_drawdown REAL,\n",
    "        total_number_trades INTEGER,\n",
    "        trades_closed INTEGER,\n",
    "        pct_winning REAL,\n",
    "        pct_losing REAL,\n",
    "        avg_money_winning REAL,\n",
    "        avg_money_losing REAL,\n",
    "        best_winning_trade REAL,\n",
    "        worst_losing_trade REAL,\n",
    "        sharpe_ratio REAL,\n",
    "        sqn_score REAL,\n",
    "        sqn_human TEXT,\n",
    "        FOREIGN KEY(run_id) REFERENCES backtest_config(run_id)\n",
    "    )\n",
    "\"\"\")"
   ]
  },
  {
   "cell_type": "code",
   "execution_count": 4,
   "id": "realistic-click",
   "metadata": {},
   "outputs": [],
   "source": [
    "conn.commit()"
   ]
  },
  {
   "cell_type": "code",
   "execution_count": 5,
   "id": "democratic-programmer",
   "metadata": {},
   "outputs": [
    {
     "data": {
      "text/html": [
       "<div>\n",
       "<style scoped>\n",
       "    .dataframe tbody tr th:only-of-type {\n",
       "        vertical-align: middle;\n",
       "    }\n",
       "\n",
       "    .dataframe tbody tr th {\n",
       "        vertical-align: top;\n",
       "    }\n",
       "\n",
       "    .dataframe thead th {\n",
       "        text-align: right;\n",
       "    }\n",
       "</style>\n",
       "<table border=\"1\" class=\"dataframe\">\n",
       "  <thead>\n",
       "    <tr style=\"text-align: right;\">\n",
       "      <th></th>\n",
       "      <th>run_id</th>\n",
       "      <th>start_cash</th>\n",
       "      <th>rpl</th>\n",
       "      <th>result_won_trades</th>\n",
       "      <th>result_lost_trades</th>\n",
       "      <th>profit_factor</th>\n",
       "      <th>rpl_per_trade</th>\n",
       "      <th>total_return</th>\n",
       "      <th>annual_return</th>\n",
       "      <th>max_money_drawdown</th>\n",
       "      <th>...</th>\n",
       "      <th>trades_closed</th>\n",
       "      <th>pct_winning</th>\n",
       "      <th>pct_losing</th>\n",
       "      <th>avg_money_winning</th>\n",
       "      <th>avg_money_losing</th>\n",
       "      <th>best_winning_trade</th>\n",
       "      <th>worst_losing_trade</th>\n",
       "      <th>sharpe_ratio</th>\n",
       "      <th>sqn_score</th>\n",
       "      <th>sqn_human</th>\n",
       "    </tr>\n",
       "  </thead>\n",
       "  <tbody>\n",
       "  </tbody>\n",
       "</table>\n",
       "<p>0 rows × 22 columns</p>\n",
       "</div>"
      ],
      "text/plain": [
       "Empty DataFrame\n",
       "Columns: [run_id, start_cash, rpl, result_won_trades, result_lost_trades, profit_factor, rpl_per_trade, total_return, annual_return, max_money_drawdown, max_pct_drawdown, total_number_trades, trades_closed, pct_winning, pct_losing, avg_money_winning, avg_money_losing, best_winning_trade, worst_losing_trade, sharpe_ratio, sqn_score, sqn_human]\n",
       "Index: []\n",
       "\n",
       "[0 rows x 22 columns]"
      ]
     },
     "execution_count": 5,
     "metadata": {},
     "output_type": "execute_result"
    }
   ],
   "source": [
    "q = \"\"\"\n",
    "    SELECT *\n",
    "    FROM backtest_report\n",
    "    \"\"\"\n",
    "\n",
    "df = pd.read_sql(q, conn)\n",
    "df.head(20)"
   ]
  },
  {
   "cell_type": "code",
   "execution_count": null,
   "id": "normal-climb",
   "metadata": {},
   "outputs": [],
   "source": []
  }
 ],
 "metadata": {
  "kernelspec": {
   "display_name": "Python 3",
   "language": "python",
   "name": "python3"
  },
  "language_info": {
   "codemirror_mode": {
    "name": "ipython",
    "version": 3
   },
   "file_extension": ".py",
   "mimetype": "text/x-python",
   "name": "python",
   "nbconvert_exporter": "python",
   "pygments_lexer": "ipython3",
   "version": "3.7.9"
  }
 },
 "nbformat": 4,
 "nbformat_minor": 5
}
