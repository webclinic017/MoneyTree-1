{
 "cells": [
  {
   "cell_type": "code",
   "execution_count": 1,
   "id": "victorian-symbol",
   "metadata": {},
   "outputs": [],
   "source": [
    "import sqlite3, config\n",
    "import pandas as pd"
   ]
  },
  {
   "cell_type": "code",
   "execution_count": 2,
   "id": "associate-moment",
   "metadata": {},
   "outputs": [],
   "source": [
    "conn = sqlite3.connect(config.DB_FILE)\n",
    "cursor = conn.cursor()"
   ]
  },
  {
   "cell_type": "code",
   "execution_count": 3,
   "id": "raised-diameter",
   "metadata": {},
   "outputs": [
    {
     "data": {
      "text/html": [
       "<div>\n",
       "<style scoped>\n",
       "    .dataframe tbody tr th:only-of-type {\n",
       "        vertical-align: middle;\n",
       "    }\n",
       "\n",
       "    .dataframe tbody tr th {\n",
       "        vertical-align: top;\n",
       "    }\n",
       "\n",
       "    .dataframe thead th {\n",
       "        text-align: right;\n",
       "    }\n",
       "</style>\n",
       "<table border=\"1\" class=\"dataframe\">\n",
       "  <thead>\n",
       "    <tr style=\"text-align: right;\">\n",
       "      <th></th>\n",
       "      <th>id</th>\n",
       "      <th>symbol</th>\n",
       "      <th>name</th>\n",
       "      <th>exchange</th>\n",
       "      <th>shortable</th>\n",
       "      <th>backtest_data</th>\n",
       "    </tr>\n",
       "  </thead>\n",
       "  <tbody>\n",
       "    <tr>\n",
       "      <th>0</th>\n",
       "      <td>1</td>\n",
       "      <td>ARAY</td>\n",
       "      <td>Accuray Incorporated Common Stock</td>\n",
       "      <td>NASDAQ</td>\n",
       "      <td>1</td>\n",
       "      <td>0</td>\n",
       "    </tr>\n",
       "    <tr>\n",
       "      <th>1</th>\n",
       "      <td>2</td>\n",
       "      <td>ARKG</td>\n",
       "      <td>ARK Genomic Revolution ETF</td>\n",
       "      <td>BATS</td>\n",
       "      <td>1</td>\n",
       "      <td>0</td>\n",
       "    </tr>\n",
       "    <tr>\n",
       "      <th>2</th>\n",
       "      <td>3</td>\n",
       "      <td>ARKQ</td>\n",
       "      <td>ARK Autonomous Technology &amp; Robotics ETF</td>\n",
       "      <td>BATS</td>\n",
       "      <td>1</td>\n",
       "      <td>0</td>\n",
       "    </tr>\n",
       "    <tr>\n",
       "      <th>3</th>\n",
       "      <td>4</td>\n",
       "      <td>CBAT</td>\n",
       "      <td>CBAK Energy Technology, Inc. Common Stock</td>\n",
       "      <td>NASDAQ</td>\n",
       "      <td>0</td>\n",
       "      <td>0</td>\n",
       "    </tr>\n",
       "    <tr>\n",
       "      <th>4</th>\n",
       "      <td>5</td>\n",
       "      <td>CBLI</td>\n",
       "      <td>Cleveland BioLabs, Inc. Common Stock</td>\n",
       "      <td>NASDAQ</td>\n",
       "      <td>0</td>\n",
       "      <td>0</td>\n",
       "    </tr>\n",
       "  </tbody>\n",
       "</table>\n",
       "</div>"
      ],
      "text/plain": [
       "   id symbol                                       name exchange  shortable  \\\n",
       "0   1   ARAY          Accuray Incorporated Common Stock   NASDAQ          1   \n",
       "1   2   ARKG                 ARK Genomic Revolution ETF     BATS          1   \n",
       "2   3   ARKQ   ARK Autonomous Technology & Robotics ETF     BATS          1   \n",
       "3   4   CBAT  CBAK Energy Technology, Inc. Common Stock   NASDAQ          0   \n",
       "4   5   CBLI       Cleveland BioLabs, Inc. Common Stock   NASDAQ          0   \n",
       "\n",
       "   backtest_data  \n",
       "0              0  \n",
       "1              0  \n",
       "2              0  \n",
       "3              0  \n",
       "4              0  "
      ]
     },
     "execution_count": 3,
     "metadata": {},
     "output_type": "execute_result"
    }
   ],
   "source": [
    "q = \"\"\"\n",
    "    SELECT *\n",
    "    FROM stock\n",
    "    LIMIT 20\n",
    "    \"\"\"\n",
    "\n",
    "df = pd.read_sql(q, conn)\n",
    "df.head()"
   ]
  },
  {
   "cell_type": "markdown",
   "id": "forbidden-anger",
   "metadata": {},
   "source": [
    "## Adding backtest_data column to stock table"
   ]
  },
  {
   "cell_type": "markdown",
   "id": "whole-efficiency",
   "metadata": {},
   "source": [
    "Adding a backtest_data column to the stock table. It will be a simple boolean column.\n",
    "\n",
    "This will be used to populate a list of available stocks that can be used when testing strategies on the backtesting page."
   ]
  },
  {
   "cell_type": "code",
   "execution_count": 4,
   "id": "southern-newman",
   "metadata": {},
   "outputs": [],
   "source": [
    "# cursor.execute(\"\"\"\n",
    "#     ALTER TABLE stock\n",
    "#     ADD backtest_data BOOLEAN NOT NULL\n",
    "#     DEFAULT 0;\n",
    "# \"\"\")"
   ]
  },
  {
   "cell_type": "markdown",
   "id": "mental-interim",
   "metadata": {},
   "source": [
    "confirm "
   ]
  },
  {
   "cell_type": "code",
   "execution_count": 5,
   "id": "prerequisite-bangladesh",
   "metadata": {},
   "outputs": [
    {
     "data": {
      "text/html": [
       "<div>\n",
       "<style scoped>\n",
       "    .dataframe tbody tr th:only-of-type {\n",
       "        vertical-align: middle;\n",
       "    }\n",
       "\n",
       "    .dataframe tbody tr th {\n",
       "        vertical-align: top;\n",
       "    }\n",
       "\n",
       "    .dataframe thead th {\n",
       "        text-align: right;\n",
       "    }\n",
       "</style>\n",
       "<table border=\"1\" class=\"dataframe\">\n",
       "  <thead>\n",
       "    <tr style=\"text-align: right;\">\n",
       "      <th></th>\n",
       "      <th>id</th>\n",
       "      <th>symbol</th>\n",
       "      <th>name</th>\n",
       "      <th>exchange</th>\n",
       "      <th>shortable</th>\n",
       "      <th>backtest_data</th>\n",
       "    </tr>\n",
       "  </thead>\n",
       "  <tbody>\n",
       "    <tr>\n",
       "      <th>0</th>\n",
       "      <td>1</td>\n",
       "      <td>ARAY</td>\n",
       "      <td>Accuray Incorporated Common Stock</td>\n",
       "      <td>NASDAQ</td>\n",
       "      <td>1</td>\n",
       "      <td>0</td>\n",
       "    </tr>\n",
       "    <tr>\n",
       "      <th>1</th>\n",
       "      <td>2</td>\n",
       "      <td>ARKG</td>\n",
       "      <td>ARK Genomic Revolution ETF</td>\n",
       "      <td>BATS</td>\n",
       "      <td>1</td>\n",
       "      <td>0</td>\n",
       "    </tr>\n",
       "    <tr>\n",
       "      <th>2</th>\n",
       "      <td>3</td>\n",
       "      <td>ARKQ</td>\n",
       "      <td>ARK Autonomous Technology &amp; Robotics ETF</td>\n",
       "      <td>BATS</td>\n",
       "      <td>1</td>\n",
       "      <td>0</td>\n",
       "    </tr>\n",
       "    <tr>\n",
       "      <th>3</th>\n",
       "      <td>4</td>\n",
       "      <td>CBAT</td>\n",
       "      <td>CBAK Energy Technology, Inc. Common Stock</td>\n",
       "      <td>NASDAQ</td>\n",
       "      <td>0</td>\n",
       "      <td>0</td>\n",
       "    </tr>\n",
       "    <tr>\n",
       "      <th>4</th>\n",
       "      <td>5</td>\n",
       "      <td>CBLI</td>\n",
       "      <td>Cleveland BioLabs, Inc. Common Stock</td>\n",
       "      <td>NASDAQ</td>\n",
       "      <td>0</td>\n",
       "      <td>0</td>\n",
       "    </tr>\n",
       "  </tbody>\n",
       "</table>\n",
       "</div>"
      ],
      "text/plain": [
       "   id symbol                                       name exchange  shortable  \\\n",
       "0   1   ARAY          Accuray Incorporated Common Stock   NASDAQ          1   \n",
       "1   2   ARKG                 ARK Genomic Revolution ETF     BATS          1   \n",
       "2   3   ARKQ   ARK Autonomous Technology & Robotics ETF     BATS          1   \n",
       "3   4   CBAT  CBAK Energy Technology, Inc. Common Stock   NASDAQ          0   \n",
       "4   5   CBLI       Cleveland BioLabs, Inc. Common Stock   NASDAQ          0   \n",
       "\n",
       "   backtest_data  \n",
       "0              0  \n",
       "1              0  \n",
       "2              0  \n",
       "3              0  \n",
       "4              0  "
      ]
     },
     "execution_count": 5,
     "metadata": {},
     "output_type": "execute_result"
    }
   ],
   "source": [
    "df = pd.read_sql(q, conn)\n",
    "df.head()"
   ]
  },
  {
   "cell_type": "markdown",
   "id": "mechanical-coordinate",
   "metadata": {},
   "source": [
    "### Update backtest_data "
   ]
  },
  {
   "cell_type": "markdown",
   "id": "fabulous-syndication",
   "metadata": {},
   "source": [
    "Eventually will add this update to the populate_minute_date script"
   ]
  },
  {
   "cell_type": "code",
   "execution_count": 6,
   "id": "unlike-glossary",
   "metadata": {},
   "outputs": [
    {
     "data": {
      "text/html": [
       "<div>\n",
       "<style scoped>\n",
       "    .dataframe tbody tr th:only-of-type {\n",
       "        vertical-align: middle;\n",
       "    }\n",
       "\n",
       "    .dataframe tbody tr th {\n",
       "        vertical-align: top;\n",
       "    }\n",
       "\n",
       "    .dataframe thead th {\n",
       "        text-align: right;\n",
       "    }\n",
       "</style>\n",
       "<table border=\"1\" class=\"dataframe\">\n",
       "  <thead>\n",
       "    <tr style=\"text-align: right;\">\n",
       "      <th></th>\n",
       "      <th>stock_id</th>\n",
       "    </tr>\n",
       "  </thead>\n",
       "  <tbody>\n",
       "    <tr>\n",
       "      <th>0</th>\n",
       "      <td>1311</td>\n",
       "    </tr>\n",
       "    <tr>\n",
       "      <th>1</th>\n",
       "      <td>112</td>\n",
       "    </tr>\n",
       "    <tr>\n",
       "      <th>2</th>\n",
       "      <td>93</td>\n",
       "    </tr>\n",
       "    <tr>\n",
       "      <th>3</th>\n",
       "      <td>7368</td>\n",
       "    </tr>\n",
       "    <tr>\n",
       "      <th>4</th>\n",
       "      <td>6590</td>\n",
       "    </tr>\n",
       "  </tbody>\n",
       "</table>\n",
       "</div>"
      ],
      "text/plain": [
       "   stock_id\n",
       "0      1311\n",
       "1       112\n",
       "2        93\n",
       "3      7368\n",
       "4      6590"
      ]
     },
     "execution_count": 6,
     "metadata": {},
     "output_type": "execute_result"
    }
   ],
   "source": [
    "q = \"\"\"\n",
    "    SELECT DISTINCT stock_id\n",
    "    FROM stock_price_minute\n",
    "    \"\"\"\n",
    "\n",
    "df = pd.read_sql(q, conn)\n",
    "df.head()"
   ]
  },
  {
   "cell_type": "code",
   "execution_count": 8,
   "id": "congressional-judge",
   "metadata": {},
   "outputs": [
    {
     "data": {
      "text/plain": [
       "103"
      ]
     },
     "execution_count": 8,
     "metadata": {},
     "output_type": "execute_result"
    }
   ],
   "source": [
    "backtest_stocks = df.stock_id.drop_duplicates().tolist()\n",
    "len(backtest_stocks)"
   ]
  },
  {
   "cell_type": "code",
   "execution_count": 9,
   "id": "employed-vanilla",
   "metadata": {},
   "outputs": [],
   "source": [
    "backtest_stocks = tuple(backtest_stocks)"
   ]
  },
  {
   "cell_type": "code",
   "execution_count": 10,
   "id": "diagnostic-probability",
   "metadata": {},
   "outputs": [
    {
     "data": {
      "text/html": [
       "<div>\n",
       "<style scoped>\n",
       "    .dataframe tbody tr th:only-of-type {\n",
       "        vertical-align: middle;\n",
       "    }\n",
       "\n",
       "    .dataframe tbody tr th {\n",
       "        vertical-align: top;\n",
       "    }\n",
       "\n",
       "    .dataframe thead th {\n",
       "        text-align: right;\n",
       "    }\n",
       "</style>\n",
       "<table border=\"1\" class=\"dataframe\">\n",
       "  <thead>\n",
       "    <tr style=\"text-align: right;\">\n",
       "      <th></th>\n",
       "      <th>id</th>\n",
       "      <th>name</th>\n",
       "    </tr>\n",
       "  </thead>\n",
       "  <tbody>\n",
       "    <tr>\n",
       "      <th>0</th>\n",
       "      <td>8</td>\n",
       "      <td>DocuSign, Inc. Common Stock</td>\n",
       "    </tr>\n",
       "    <tr>\n",
       "      <th>1</th>\n",
       "      <td>10</td>\n",
       "      <td>Facebook, Inc. Class A Common Stock</td>\n",
       "    </tr>\n",
       "    <tr>\n",
       "      <th>2</th>\n",
       "      <td>23</td>\n",
       "      <td>Booking Holdings Inc. Common Stock</td>\n",
       "    </tr>\n",
       "    <tr>\n",
       "      <th>3</th>\n",
       "      <td>93</td>\n",
       "      <td>Advanced Micro Devices, Inc. Common Stock</td>\n",
       "    </tr>\n",
       "    <tr>\n",
       "      <th>4</th>\n",
       "      <td>112</td>\n",
       "      <td>Adobe Inc. Common Stock</td>\n",
       "    </tr>\n",
       "  </tbody>\n",
       "</table>\n",
       "</div>"
      ],
      "text/plain": [
       "    id                                       name\n",
       "0    8                DocuSign, Inc. Common Stock\n",
       "1   10        Facebook, Inc. Class A Common Stock\n",
       "2   23         Booking Holdings Inc. Common Stock\n",
       "3   93  Advanced Micro Devices, Inc. Common Stock\n",
       "4  112                    Adobe Inc. Common Stock"
      ]
     },
     "execution_count": 10,
     "metadata": {},
     "output_type": "execute_result"
    }
   ],
   "source": [
    "q = \"\"\"\n",
    "    SELECT id, name\n",
    "    FROM stock\n",
    "    WHERE id IN {}\n",
    "    \"\"\".format(backtest_stocks)\n",
    "\n",
    "df = pd.read_sql(q, conn)\n",
    "df.head()"
   ]
  },
  {
   "cell_type": "markdown",
   "id": "defined-chicken",
   "metadata": {},
   "source": [
    "UPDATE backtest_data column:"
   ]
  },
  {
   "cell_type": "code",
   "execution_count": 11,
   "id": "functional-gateway",
   "metadata": {},
   "outputs": [
    {
     "data": {
      "text/plain": [
       "<sqlite3.Cursor at 0x10864eab0>"
      ]
     },
     "execution_count": 11,
     "metadata": {},
     "output_type": "execute_result"
    }
   ],
   "source": [
    "cursor.execute(\"\"\"\n",
    "    UPDATE stock\n",
    "    SET backtest_data = 1\n",
    "    WHERE id IN {}\n",
    "\"\"\".format(backtest_stocks))"
   ]
  },
  {
   "cell_type": "code",
   "execution_count": 12,
   "id": "banned-nirvana",
   "metadata": {},
   "outputs": [],
   "source": [
    "conn.commit()"
   ]
  },
  {
   "cell_type": "markdown",
   "id": "respiratory-technical",
   "metadata": {},
   "source": [
    "confirm"
   ]
  },
  {
   "cell_type": "code",
   "execution_count": 13,
   "id": "referenced-channels",
   "metadata": {},
   "outputs": [
    {
     "data": {
      "text/html": [
       "<div>\n",
       "<style scoped>\n",
       "    .dataframe tbody tr th:only-of-type {\n",
       "        vertical-align: middle;\n",
       "    }\n",
       "\n",
       "    .dataframe tbody tr th {\n",
       "        vertical-align: top;\n",
       "    }\n",
       "\n",
       "    .dataframe thead th {\n",
       "        text-align: right;\n",
       "    }\n",
       "</style>\n",
       "<table border=\"1\" class=\"dataframe\">\n",
       "  <thead>\n",
       "    <tr style=\"text-align: right;\">\n",
       "      <th></th>\n",
       "      <th>id</th>\n",
       "      <th>name</th>\n",
       "      <th>backtest_data</th>\n",
       "    </tr>\n",
       "  </thead>\n",
       "  <tbody>\n",
       "    <tr>\n",
       "      <th>0</th>\n",
       "      <td>8</td>\n",
       "      <td>DocuSign, Inc. Common Stock</td>\n",
       "      <td>1</td>\n",
       "    </tr>\n",
       "    <tr>\n",
       "      <th>1</th>\n",
       "      <td>10</td>\n",
       "      <td>Facebook, Inc. Class A Common Stock</td>\n",
       "      <td>1</td>\n",
       "    </tr>\n",
       "    <tr>\n",
       "      <th>2</th>\n",
       "      <td>23</td>\n",
       "      <td>Booking Holdings Inc. Common Stock</td>\n",
       "      <td>1</td>\n",
       "    </tr>\n",
       "    <tr>\n",
       "      <th>3</th>\n",
       "      <td>93</td>\n",
       "      <td>Advanced Micro Devices, Inc. Common Stock</td>\n",
       "      <td>1</td>\n",
       "    </tr>\n",
       "    <tr>\n",
       "      <th>4</th>\n",
       "      <td>112</td>\n",
       "      <td>Adobe Inc. Common Stock</td>\n",
       "      <td>1</td>\n",
       "    </tr>\n",
       "    <tr>\n",
       "      <th>5</th>\n",
       "      <td>115</td>\n",
       "      <td>Amazon.com, Inc. Common Stock</td>\n",
       "      <td>1</td>\n",
       "    </tr>\n",
       "    <tr>\n",
       "      <th>6</th>\n",
       "      <td>309</td>\n",
       "      <td>Analog Devices, Inc. Common Stock</td>\n",
       "      <td>1</td>\n",
       "    </tr>\n",
       "    <tr>\n",
       "      <th>7</th>\n",
       "      <td>316</td>\n",
       "      <td>BioMarin Pharmaceutical Inc. Common Stock</td>\n",
       "      <td>1</td>\n",
       "    </tr>\n",
       "    <tr>\n",
       "      <th>8</th>\n",
       "      <td>565</td>\n",
       "      <td>Automatic Data Processing, Inc. Common Stock</td>\n",
       "      <td>1</td>\n",
       "    </tr>\n",
       "    <tr>\n",
       "      <th>9</th>\n",
       "      <td>592</td>\n",
       "      <td>CDW Corporation Common Stock</td>\n",
       "      <td>1</td>\n",
       "    </tr>\n",
       "    <tr>\n",
       "      <th>10</th>\n",
       "      <td>595</td>\n",
       "      <td>Autodesk, Inc. Common Stock</td>\n",
       "      <td>1</td>\n",
       "    </tr>\n",
       "    <tr>\n",
       "      <th>11</th>\n",
       "      <td>615</td>\n",
       "      <td>Cadence Design Systems, Inc. Common Stock</td>\n",
       "      <td>1</td>\n",
       "    </tr>\n",
       "    <tr>\n",
       "      <th>12</th>\n",
       "      <td>621</td>\n",
       "      <td>Cerner Corporation Common Stock</td>\n",
       "      <td>1</td>\n",
       "    </tr>\n",
       "    <tr>\n",
       "      <th>13</th>\n",
       "      <td>706</td>\n",
       "      <td>Check Point Software Technologies Ltd. Ordinar...</td>\n",
       "      <td>1</td>\n",
       "    </tr>\n",
       "    <tr>\n",
       "      <th>14</th>\n",
       "      <td>840</td>\n",
       "      <td>Charter Communications, Inc. Class A Common St...</td>\n",
       "      <td>1</td>\n",
       "    </tr>\n",
       "    <tr>\n",
       "      <th>15</th>\n",
       "      <td>933</td>\n",
       "      <td>Comcast Corporation Class A Common Stock</td>\n",
       "      <td>1</td>\n",
       "    </tr>\n",
       "    <tr>\n",
       "      <th>16</th>\n",
       "      <td>1073</td>\n",
       "      <td>ASML Holding N.V. New York Registry Shares</td>\n",
       "      <td>1</td>\n",
       "    </tr>\n",
       "    <tr>\n",
       "      <th>17</th>\n",
       "      <td>1081</td>\n",
       "      <td>Costco Wholesale Corporation Common Stock</td>\n",
       "      <td>1</td>\n",
       "    </tr>\n",
       "    <tr>\n",
       "      <th>18</th>\n",
       "      <td>1124</td>\n",
       "      <td>Copart, Inc. (DE) Common Stock</td>\n",
       "      <td>1</td>\n",
       "    </tr>\n",
       "    <tr>\n",
       "      <th>19</th>\n",
       "      <td>1175</td>\n",
       "      <td>Cisco Systems, Inc. Common Stock (DE)</td>\n",
       "      <td>1</td>\n",
       "    </tr>\n",
       "  </tbody>\n",
       "</table>\n",
       "</div>"
      ],
      "text/plain": [
       "      id                                               name  backtest_data\n",
       "0      8                        DocuSign, Inc. Common Stock              1\n",
       "1     10                Facebook, Inc. Class A Common Stock              1\n",
       "2     23                 Booking Holdings Inc. Common Stock              1\n",
       "3     93          Advanced Micro Devices, Inc. Common Stock              1\n",
       "4    112                            Adobe Inc. Common Stock              1\n",
       "5    115                      Amazon.com, Inc. Common Stock              1\n",
       "6    309                  Analog Devices, Inc. Common Stock              1\n",
       "7    316          BioMarin Pharmaceutical Inc. Common Stock              1\n",
       "8    565       Automatic Data Processing, Inc. Common Stock              1\n",
       "9    592                       CDW Corporation Common Stock              1\n",
       "10   595                        Autodesk, Inc. Common Stock              1\n",
       "11   615          Cadence Design Systems, Inc. Common Stock              1\n",
       "12   621                    Cerner Corporation Common Stock              1\n",
       "13   706  Check Point Software Technologies Ltd. Ordinar...              1\n",
       "14   840  Charter Communications, Inc. Class A Common St...              1\n",
       "15   933           Comcast Corporation Class A Common Stock              1\n",
       "16  1073         ASML Holding N.V. New York Registry Shares              1\n",
       "17  1081          Costco Wholesale Corporation Common Stock              1\n",
       "18  1124                     Copart, Inc. (DE) Common Stock              1\n",
       "19  1175              Cisco Systems, Inc. Common Stock (DE)              1"
      ]
     },
     "execution_count": 13,
     "metadata": {},
     "output_type": "execute_result"
    }
   ],
   "source": [
    "q = \"\"\"\n",
    "    SELECT id, name, backtest_data\n",
    "    FROM stock\n",
    "    WHERE backtest_data = 1\n",
    "    \"\"\"\n",
    "\n",
    "df = pd.read_sql(q, conn)\n",
    "df.head(20)"
   ]
  },
  {
   "cell_type": "code",
   "execution_count": null,
   "id": "leading-screening",
   "metadata": {},
   "outputs": [],
   "source": []
  },
  {
   "cell_type": "markdown",
   "id": "cordless-naples",
   "metadata": {},
   "source": [
    "## Create backtest_config table"
   ]
  },
  {
   "cell_type": "code",
   "execution_count": 3,
   "id": "editorial-setting",
   "metadata": {},
   "outputs": [
    {
     "data": {
      "text/plain": [
       "<sqlite3.Cursor at 0x117442ab0>"
      ]
     },
     "execution_count": 3,
     "metadata": {},
     "output_type": "execute_result"
    }
   ],
   "source": [
    "cursor.execute(\"\"\"\n",
    "    CREATE TABLE IF NOT EXISTS backtest_config (\n",
    "        run_id INTEGER PRIMARY KEY,\n",
    "        date NOT NULL,\n",
    "        stock_id INTEGER,\n",
    "        strategy NOT NULL,\n",
    "        bt_start NOT NULL,\n",
    "        bt_end NOT NULL,\n",
    "        set_cash INTEGER NOT NULL,\n",
    "        open_range INTEGER NOT NULL,\n",
    "        liquidate_time INTEGER NOT NULL,\n",
    "        FOREIGN KEY (stock_id) REFERENCES stock (id)\n",
    "    )\n",
    "\"\"\")"
   ]
  },
  {
   "cell_type": "code",
   "execution_count": 4,
   "id": "cheap-coalition",
   "metadata": {},
   "outputs": [],
   "source": [
    "conn.commit()"
   ]
  },
  {
   "cell_type": "code",
   "execution_count": 5,
   "id": "military-trainer",
   "metadata": {},
   "outputs": [
    {
     "data": {
      "text/html": [
       "<div>\n",
       "<style scoped>\n",
       "    .dataframe tbody tr th:only-of-type {\n",
       "        vertical-align: middle;\n",
       "    }\n",
       "\n",
       "    .dataframe tbody tr th {\n",
       "        vertical-align: top;\n",
       "    }\n",
       "\n",
       "    .dataframe thead th {\n",
       "        text-align: right;\n",
       "    }\n",
       "</style>\n",
       "<table border=\"1\" class=\"dataframe\">\n",
       "  <thead>\n",
       "    <tr style=\"text-align: right;\">\n",
       "      <th></th>\n",
       "      <th>run_id</th>\n",
       "      <th>date</th>\n",
       "      <th>stock_id</th>\n",
       "      <th>strategy</th>\n",
       "      <th>bt_start</th>\n",
       "      <th>bt_end</th>\n",
       "      <th>set_cash</th>\n",
       "      <th>open_range</th>\n",
       "      <th>liquidate_time</th>\n",
       "    </tr>\n",
       "  </thead>\n",
       "  <tbody>\n",
       "  </tbody>\n",
       "</table>\n",
       "</div>"
      ],
      "text/plain": [
       "Empty DataFrame\n",
       "Columns: [run_id, date, stock_id, strategy, bt_start, bt_end, set_cash, open_range, liquidate_time]\n",
       "Index: []"
      ]
     },
     "execution_count": 5,
     "metadata": {},
     "output_type": "execute_result"
    }
   ],
   "source": [
    "q = \"\"\"\n",
    "    SELECT *\n",
    "    FROM backtest_config\n",
    "    \"\"\"\n",
    "\n",
    "df = pd.read_sql(q, conn)\n",
    "df.head(20)"
   ]
  },
  {
   "cell_type": "code",
   "execution_count": null,
   "id": "available-hopkins",
   "metadata": {},
   "outputs": [],
   "source": []
  }
 ],
 "metadata": {
  "kernelspec": {
   "display_name": "Python 3",
   "language": "python",
   "name": "python3"
  },
  "language_info": {
   "codemirror_mode": {
    "name": "ipython",
    "version": 3
   },
   "file_extension": ".py",
   "mimetype": "text/x-python",
   "name": "python",
   "nbconvert_exporter": "python",
   "pygments_lexer": "ipython3",
   "version": "3.9.1"
  }
 },
 "nbformat": 4,
 "nbformat_minor": 5
}
