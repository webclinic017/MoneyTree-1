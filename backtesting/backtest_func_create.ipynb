{
 "cells": [
  {
   "cell_type": "code",
   "execution_count": 1,
   "id": "simplified-inspection",
   "metadata": {},
   "outputs": [
    {
     "name": "stdout",
     "output_type": "stream",
     "text": [
      "3.7.9 (default, Feb 19 2021, 20:27:40) \n",
      "[Clang 12.0.0 (clang-1200.0.32.29)]\n"
     ]
    }
   ],
   "source": [
    "import sys\n",
    "print(sys.version)"
   ]
  },
  {
   "cell_type": "code",
   "execution_count": 6,
   "id": "amazing-alert",
   "metadata": {},
   "outputs": [],
   "source": [
    "sys.path.append(\"../\")"
   ]
  },
  {
   "cell_type": "code",
   "execution_count": 7,
   "id": "familiar-restaurant",
   "metadata": {},
   "outputs": [],
   "source": [
    "import os, sqlite3, config, sys\n",
    "import pandas as pd\n",
    "import numpy as np\n",
    "import backtrader as bt\n",
    "# from report import Cerebro\n",
    "from strategy_classes import CrossOver, OpeningRangeBreakout"
   ]
  },
  {
   "cell_type": "code",
   "execution_count": 8,
   "id": "brazilian-listening",
   "metadata": {},
   "outputs": [],
   "source": [
    "stock_id = 9395\n",
    "strategy = \"crossover\"\n",
    "start_date = '2020-04-20'\n",
    "end_date = '2020-07-20'\n",
    "set_cash = 30000"
   ]
  },
  {
   "cell_type": "code",
   "execution_count": 9,
   "id": "double-sport",
   "metadata": {},
   "outputs": [],
   "source": [
    "conn = sqlite3.connect(config.DB_FILE)\n",
    "cursor = conn.cursor()"
   ]
  },
  {
   "cell_type": "code",
   "execution_count": null,
   "id": "wicked-skiing",
   "metadata": {},
   "outputs": [],
   "source": [
    "def saveplots(cerebro, numfigs=1, iplot=True, start=None, end=None,\n",
    "             width=16, height=9, dpi=300, tight=True, use=None, file_path = '', **kwargs):\n",
    "\n",
    "        from backtrader import plot\n",
    "        if cerebro.p.oldsync:\n",
    "            plotter = plot.Plot_OldSync(**kwargs)\n",
    "        else:\n",
    "            plotter = plot.Plot(**kwargs)\n",
    "\n",
    "        figs = []\n",
    "        for stratlist in cerebro.runstrats:\n",
    "            for si, strat in enumerate(stratlist):\n",
    "                rfig = plotter.plot(strat, figid=si * 100,\n",
    "                                    numfigs=numfigs, iplot=iplot,\n",
    "                                    start=start, end=end, use=use)\n",
    "                figs.append(rfig)\n",
    "\n",
    "        for fig in figs:\n",
    "            for f in fig:\n",
    "                f.savefig(file_path, bbox_inches='tight')\n",
    "        return figs"
   ]
  },
  {
   "cell_type": "code",
   "execution_count": null,
   "id": "acceptable-collins",
   "metadata": {},
   "outputs": [],
   "source": [
    "def backtest(stock_id, strategy, conn, start_date=None, end_date=None, \\\n",
    "             open_range=None, run_id=None,liquidate_time='15:00:00', set_cash=25000):\n",
    "    \n",
    "    print(f\"== Testing {stock_id} ==\")\n",
    "    \n",
    "    df = pd.read_sql(\"\"\"\n",
    "        SELECT datetime, open, high, low, close, volume\n",
    "        FROM stock_price_minute\n",
    "        WHERE stock_id = :stock_id\n",
    "        AND strftime('%Y-%m-%d', datetime) >= :start_date\n",
    "        AND strftime('%Y-%m-%d', datetime) <= :end_date\n",
    "        ORDER BY datetime ASC\n",
    "        LIMIT 10000\n",
    "        \"\"\", conn, params={\"stock_id\":stock_id,\"start_date\":start_date, \\\n",
    "                           \"end_date\":end_date}, index_col='datetime', parse_dates=['datetime'])\n",
    "    data = df.between_time('09:30:00', '16:00:00')\n",
    "    \n",
    "    # initialize Cerebro engine, extende with report method\n",
    "    cerebro = Cerebro()\n",
    "    cerebro.broker.setcash(set_cash)\n",
    "    cerebro.addsizer(bt.sizers.PercentSizer, percents=95)\n",
    "    \n",
    "    # add data\n",
    "    feed = bt.feeds.PandasData(dataname=df)\n",
    "    cerebro.adddata(feed)\n",
    "    \n",
    "    if strategy == 'opening_range_breakout':\n",
    "        cerebro.addstrategy(strategy=OpeningRangeBreakout)\n",
    "    else:\n",
    "        # add Golden Cross strategy\n",
    "        params = (('fast', 50),('slow', 200))\n",
    "        cerebro.addstrategy(strategy=CrossOver, **dict(params))\n",
    "        \n",
    "    cerebro.run()\n",
    "    \n",
    "    saveplots(cerebro, file_path = 'backtest_output.png')\n",
    "    \n",
    "    cerebro.report(memo=f'{stock_id} | {run_id}',\n",
    "               outputdir='/Users/kylespringfield/Dev/MoneyTree/backtest_reports')"
   ]
  },
  {
   "cell_type": "code",
   "execution_count": null,
   "id": "sticky-parade",
   "metadata": {
    "scrolled": true
   },
   "outputs": [],
   "source": [
    "backtest(stock_id, strategy, conn, start_date=start_date, end_date=end_date, \\\n",
    "         run_id=run_id, set_cash=set_cash)"
   ]
  },
  {
   "cell_type": "code",
   "execution_count": null,
   "id": "first-casino",
   "metadata": {},
   "outputs": [],
   "source": []
  },
  {
   "cell_type": "code",
   "execution_count": null,
   "id": "nasty-convergence",
   "metadata": {},
   "outputs": [],
   "source": []
  },
  {
   "cell_type": "code",
   "execution_count": null,
   "id": "brutal-cloud",
   "metadata": {},
   "outputs": [],
   "source": []
  },
  {
   "cell_type": "code",
   "execution_count": null,
   "id": "mighty-uruguay",
   "metadata": {},
   "outputs": [],
   "source": []
  },
  {
   "cell_type": "markdown",
   "id": "excellent-optics",
   "metadata": {},
   "source": [
    "### sandbox"
   ]
  },
  {
   "cell_type": "code",
   "execution_count": 5,
   "id": "infinite-shame",
   "metadata": {},
   "outputs": [],
   "source": [
    "start_date = '2020-04-20'\n",
    "end_date = '2020-04-22'"
   ]
  },
  {
   "cell_type": "code",
   "execution_count": 6,
   "id": "qualified-professional",
   "metadata": {},
   "outputs": [
    {
     "data": {
      "text/html": [
       "<div>\n",
       "<style scoped>\n",
       "    .dataframe tbody tr th:only-of-type {\n",
       "        vertical-align: middle;\n",
       "    }\n",
       "\n",
       "    .dataframe tbody tr th {\n",
       "        vertical-align: top;\n",
       "    }\n",
       "\n",
       "    .dataframe thead th {\n",
       "        text-align: right;\n",
       "    }\n",
       "</style>\n",
       "<table border=\"1\" class=\"dataframe\">\n",
       "  <thead>\n",
       "    <tr style=\"text-align: right;\">\n",
       "      <th></th>\n",
       "      <th>open</th>\n",
       "      <th>high</th>\n",
       "      <th>low</th>\n",
       "      <th>close</th>\n",
       "      <th>volume</th>\n",
       "    </tr>\n",
       "    <tr>\n",
       "      <th>datetime</th>\n",
       "      <th></th>\n",
       "      <th></th>\n",
       "      <th></th>\n",
       "      <th></th>\n",
       "      <th></th>\n",
       "    </tr>\n",
       "  </thead>\n",
       "  <tbody>\n",
       "    <tr>\n",
       "      <th>2020-04-20 04:00:00</th>\n",
       "      <td>70.680</td>\n",
       "      <td>70.680</td>\n",
       "      <td>70.500</td>\n",
       "      <td>70.500</td>\n",
       "      <td>5384.0</td>\n",
       "    </tr>\n",
       "    <tr>\n",
       "      <th>2020-04-20 04:01:00</th>\n",
       "      <td>70.680</td>\n",
       "      <td>70.680</td>\n",
       "      <td>70.500</td>\n",
       "      <td>70.500</td>\n",
       "      <td>5384.0</td>\n",
       "    </tr>\n",
       "    <tr>\n",
       "      <th>2020-04-20 04:02:00</th>\n",
       "      <td>70.680</td>\n",
       "      <td>70.680</td>\n",
       "      <td>70.500</td>\n",
       "      <td>70.500</td>\n",
       "      <td>5384.0</td>\n",
       "    </tr>\n",
       "    <tr>\n",
       "      <th>2020-04-20 04:03:00</th>\n",
       "      <td>70.680</td>\n",
       "      <td>70.680</td>\n",
       "      <td>70.500</td>\n",
       "      <td>70.500</td>\n",
       "      <td>5384.0</td>\n",
       "    </tr>\n",
       "    <tr>\n",
       "      <th>2020-04-20 04:04:00</th>\n",
       "      <td>70.375</td>\n",
       "      <td>70.425</td>\n",
       "      <td>70.375</td>\n",
       "      <td>70.425</td>\n",
       "      <td>1400.0</td>\n",
       "    </tr>\n",
       "  </tbody>\n",
       "</table>\n",
       "</div>"
      ],
      "text/plain": [
       "                       open    high     low   close  volume\n",
       "datetime                                                   \n",
       "2020-04-20 04:00:00  70.680  70.680  70.500  70.500  5384.0\n",
       "2020-04-20 04:01:00  70.680  70.680  70.500  70.500  5384.0\n",
       "2020-04-20 04:02:00  70.680  70.680  70.500  70.500  5384.0\n",
       "2020-04-20 04:03:00  70.680  70.680  70.500  70.500  5384.0\n",
       "2020-04-20 04:04:00  70.375  70.425  70.375  70.425  1400.0"
      ]
     },
     "execution_count": 6,
     "metadata": {},
     "output_type": "execute_result"
    }
   ],
   "source": [
    "df = pd.read_sql(\"\"\"\n",
    "        SELECT datetime, open, high, low, close, volume\n",
    "        FROM stock_price_minute\n",
    "        WHERE stock_id = :stock_id\n",
    "        AND strftime('%Y-%m-%d', datetime) >= :start_date\n",
    "        AND strftime('%Y-%m-%d', datetime) <= :end_date\n",
    "        ORDER BY datetime ASC\n",
    "        LIMIT 500\n",
    "    \"\"\", conn, params={\"stock_id\":9395,\"start_date\":start_date, \\\n",
    "                       \"end_date\":end_date}, index_col='datetime', parse_dates=['datetime'])\n",
    "df.head()"
   ]
  },
  {
   "cell_type": "code",
   "execution_count": 11,
   "id": "waiting-genesis",
   "metadata": {},
   "outputs": [],
   "source": [
    "df = df.between_time('09:30:00', '16:00:00')"
   ]
  },
  {
   "cell_type": "code",
   "execution_count": 12,
   "id": "through-encounter",
   "metadata": {},
   "outputs": [
    {
     "data": {
      "text/plain": [
       "datetime\n",
       "2020-04-20 09:30:00    69.4875\n",
       "2020-04-20 09:31:00    69.6559\n",
       "2020-04-20 09:32:00    69.8200\n",
       "2020-04-20 09:33:00    69.8950\n",
       "2020-04-20 09:34:00    70.0225\n",
       "                        ...   \n",
       "2020-04-20 12:15:00    70.0194\n",
       "2020-04-20 12:16:00    70.0400\n",
       "2020-04-20 12:17:00    70.0525\n",
       "2020-04-20 12:18:00    70.0875\n",
       "2020-04-20 12:19:00    70.0200\n",
       "Name: open, Length: 170, dtype: float64"
      ]
     },
     "execution_count": 12,
     "metadata": {},
     "output_type": "execute_result"
    }
   ],
   "source": [
    "curve = df['open']\n",
    "curve"
   ]
  },
  {
   "cell_type": "code",
   "execution_count": 14,
   "id": "coupled-tsunami",
   "metadata": {},
   "outputs": [],
   "source": [
    "df = pd.DataFrame(curve)\n",
    "df = df.rename(columns = {0:\"value\"})"
   ]
  },
  {
   "cell_type": "code",
   "execution_count": 15,
   "id": "sought-hungarian",
   "metadata": {},
   "outputs": [
    {
     "data": {
      "text/html": [
       "<div>\n",
       "<style scoped>\n",
       "    .dataframe tbody tr th:only-of-type {\n",
       "        vertical-align: middle;\n",
       "    }\n",
       "\n",
       "    .dataframe tbody tr th {\n",
       "        vertical-align: top;\n",
       "    }\n",
       "\n",
       "    .dataframe thead th {\n",
       "        text-align: right;\n",
       "    }\n",
       "</style>\n",
       "<table border=\"1\" class=\"dataframe\">\n",
       "  <thead>\n",
       "    <tr style=\"text-align: right;\">\n",
       "      <th></th>\n",
       "      <th>open</th>\n",
       "    </tr>\n",
       "    <tr>\n",
       "      <th>datetime</th>\n",
       "      <th></th>\n",
       "    </tr>\n",
       "  </thead>\n",
       "  <tbody>\n",
       "    <tr>\n",
       "      <th>2020-04-20 09:30:00</th>\n",
       "      <td>69.4875</td>\n",
       "    </tr>\n",
       "    <tr>\n",
       "      <th>2020-04-20 09:31:00</th>\n",
       "      <td>69.6559</td>\n",
       "    </tr>\n",
       "    <tr>\n",
       "      <th>2020-04-20 09:32:00</th>\n",
       "      <td>69.8200</td>\n",
       "    </tr>\n",
       "    <tr>\n",
       "      <th>2020-04-20 09:33:00</th>\n",
       "      <td>69.8950</td>\n",
       "    </tr>\n",
       "    <tr>\n",
       "      <th>2020-04-20 09:34:00</th>\n",
       "      <td>70.0225</td>\n",
       "    </tr>\n",
       "  </tbody>\n",
       "</table>\n",
       "</div>"
      ],
      "text/plain": [
       "                        open\n",
       "datetime                    \n",
       "2020-04-20 09:30:00  69.4875\n",
       "2020-04-20 09:31:00  69.6559\n",
       "2020-04-20 09:32:00  69.8200\n",
       "2020-04-20 09:33:00  69.8950\n",
       "2020-04-20 09:34:00  70.0225"
      ]
     },
     "execution_count": 15,
     "metadata": {},
     "output_type": "execute_result"
    }
   ],
   "source": [
    "df.head()"
   ]
  },
  {
   "cell_type": "code",
   "execution_count": null,
   "id": "removable-scope",
   "metadata": {},
   "outputs": [],
   "source": []
  },
  {
   "cell_type": "code",
   "execution_count": null,
   "id": "exciting-original",
   "metadata": {},
   "outputs": [],
   "source": [
    "run_id = 1"
   ]
  },
  {
   "cell_type": "code",
   "execution_count": null,
   "id": "historical-fabric",
   "metadata": {},
   "outputs": [],
   "source": [
    "# PnL\n",
    "start_cash = 20000\n",
    "rpl = 1644.4\n",
    "result_won_trades = 3587.16\n",
    "result_lost_trades = -1942.77\n",
    "profit_factor = 1.84\n",
    "rpl_per_trade = 42.2\n",
    "total_return = .0657\n",
    "annual_return = .3814\n",
    "max_money_drawdown = 907.8\n",
    "max_pct_drawdown = .0349\n",
    "# Trades\n",
    "total_number_trades = 39\n",
    "trades_closed = 35\n",
    "pct_winning = .6153\n",
    "pct_losing = .3846\n",
    "avg_money_winning = 149.46\n",
    "avg_money_losing = -129.52\n",
    "best_winning_trade = 351.38\n",
    "worst_losing_trade = -315.37\n",
    "# KPIs\n",
    "sharpe_ratio = 1.13\n",
    "sqn_score = 1.58\n",
    "sqn_human = \"Poor\"\n"
   ]
  },
  {
   "cell_type": "code",
   "execution_count": null,
   "id": "contained-translator",
   "metadata": {},
   "outputs": [],
   "source": [
    "kpis = {# PnL\n",
    "       'start_cash': start_cash,\n",
    "       'rpl': rpl,\n",
    "       'result_won_trades': result_won_trades,\n",
    "       'result_lost_trades': result_lost_trades,\n",
    "       'profit_factor': profit_factor,\n",
    "       'rpl_per_trade': rpl_per_trade,\n",
    "       'total_return': total_return,\n",
    "       'annual_return': annual_return,\n",
    "       'max_money_drawdown': max_money_drawdown,\n",
    "       'max_pct_drawdown': max_pct_drawdown,\n",
    "       # trades\n",
    "       'total_number_trades': total_number_trades,\n",
    "       'trades_closed': trades_closed,\n",
    "       'pct_winning': pct_winning,\n",
    "       'pct_losing': pct_losing,\n",
    "       'avg_money_winning': avg_money_winning,\n",
    "       'avg_money_losing':  avg_money_losing,\n",
    "       'best_winning_trade': best_winning_trade,\n",
    "       'worst_losing_trade': worst_losing_trade,\n",
    "       #  performance\n",
    "       'sharpe_ratio': sharpe_ratio,\n",
    "       'sqn_score': sqn_score,\n",
    "       'sqn_human': sqn_human\n",
    "       }"
   ]
  },
  {
   "cell_type": "code",
   "execution_count": null,
   "id": "becoming-philip",
   "metadata": {},
   "outputs": [],
   "source": [
    "kpis['run_id'] = run_id\n",
    "kpis"
   ]
  },
  {
   "cell_type": "code",
   "execution_count": null,
   "id": "eastern-democrat",
   "metadata": {},
   "outputs": [],
   "source": [
    "rows =[]"
   ]
  },
  {
   "cell_type": "code",
   "execution_count": null,
   "id": "sonic-sheet",
   "metadata": {},
   "outputs": [],
   "source": [
    "rows.append(kpis)"
   ]
  },
  {
   "cell_type": "code",
   "execution_count": null,
   "id": "tested-librarian",
   "metadata": {},
   "outputs": [],
   "source": [
    "kpis_df = pd.DataFrame.from_dict(rows)"
   ]
  },
  {
   "cell_type": "code",
   "execution_count": null,
   "id": "retired-restriction",
   "metadata": {},
   "outputs": [],
   "source": [
    "kpis_df"
   ]
  },
  {
   "cell_type": "code",
   "execution_count": null,
   "id": "broad-culture",
   "metadata": {},
   "outputs": [],
   "source": [
    "kpis_df = kpis_df[['run_id', 'start_cash', 'rpl', 'result_won_trades', 'result_lost_trades', 'profit_factor', 'rpl_per_trade', 'total_return', 'annual_return', 'max_money_drawdown', 'max_pct_drawdown', 'total_number_trades', 'trades_closed', 'pct_winning', 'pct_losing', 'avg_money_winning', 'avg_money_losing', 'best_winning_trade', 'worst_losing_trade', 'sharpe_ratio', 'sqn_score', 'sqn_human']]"
   ]
  },
  {
   "cell_type": "code",
   "execution_count": null,
   "id": "extraordinary-tract",
   "metadata": {},
   "outputs": [],
   "source": [
    "kpis_df"
   ]
  },
  {
   "cell_type": "code",
   "execution_count": null,
   "id": "welsh-passage",
   "metadata": {},
   "outputs": [],
   "source": []
  },
  {
   "cell_type": "code",
   "execution_count": null,
   "id": "solved-adjustment",
   "metadata": {},
   "outputs": [],
   "source": [
    "cursor.execute(\"\"\"\n",
    "    INSERT INTO backtest_reports \n",
    "    (run_id, start_cash, rpl, result_won_trades, result_lost_trades, profit_factor, rpl_per_trade,\n",
    "     total_return, annual_return, max_money_drawdown, max_pct_drawdown, total_number_trades, trades_closed,\n",
    "     pct_winning, pct_losing, avg_money_winning, avg_money_losing, best_winning_trade, worst_losing_trade,\n",
    "     sharpe_ratio, sqn_score, sqn_human) VALUES (?,?,?,?,?,?,?,?,?,?,?,?,?,?,?,?,?,?,?,?,?,?)\n",
    "     \"\"\", (int(kpis_df.run_id[0]), int(kpis_df.start_cash[0]), kpis_df.rpl[0], kpis_df.result_won_trades[0], kpis_df.result_lost_trades[0],\n",
    "           kpis_df.profit_factor[0], kpis_df.rpl_per_trade[0], kpis_df.total_return[0], kpis_df.annual_return[0],\n",
    "           kpis_df.max_money_drawdown[0], kpis_df.max_pct_drawdown[0], int(kpis_df.total_number_trades[0]),\n",
    "           int(kpis_df.trades_closed[0]), kpis_df.pct_winning[0], kpis_df.pct_losing[0], kpis_df.avg_money_winning[0],\n",
    "           kpis_df.avg_money_losing[0], kpis_df.best_winning_trade[0], kpis_df.worst_losing_trade[0],\n",
    "           kpis_df.sharpe_ratio[0], kpis_df.sqn_score[0], kpis_df.sqn_human[0]))"
   ]
  },
  {
   "cell_type": "code",
   "execution_count": null,
   "id": "federal-scale",
   "metadata": {},
   "outputs": [],
   "source": [
    "conn.commit()"
   ]
  },
  {
   "cell_type": "code",
   "execution_count": null,
   "id": "fitting-sheet",
   "metadata": {},
   "outputs": [],
   "source": [
    "q = \"\"\"\n",
    "    SELECT *\n",
    "    FROM backtest_reports\n",
    "    \"\"\"\n",
    "\n",
    "df = pd.read_sql(q, conn)\n",
    "df.head(20)"
   ]
  },
  {
   "cell_type": "code",
   "execution_count": null,
   "id": "gentle-crown",
   "metadata": {},
   "outputs": [],
   "source": []
  },
  {
   "cell_type": "code",
   "execution_count": null,
   "id": "ceramic-usage",
   "metadata": {},
   "outputs": [],
   "source": []
  },
  {
   "cell_type": "markdown",
   "id": "knowing-graphic",
   "metadata": {},
   "source": [
    "Filter curve data"
   ]
  },
  {
   "cell_type": "code",
   "execution_count": 62,
   "id": "smoking-freeware",
   "metadata": {},
   "outputs": [],
   "source": [
    "df = pd.read_csv(\"data/curve_data.csv\")"
   ]
  },
  {
   "cell_type": "code",
   "execution_count": 63,
   "id": "separated-crack",
   "metadata": {},
   "outputs": [
    {
     "data": {
      "text/html": [
       "<div>\n",
       "<style scoped>\n",
       "    .dataframe tbody tr th:only-of-type {\n",
       "        vertical-align: middle;\n",
       "    }\n",
       "\n",
       "    .dataframe tbody tr th {\n",
       "        vertical-align: top;\n",
       "    }\n",
       "\n",
       "    .dataframe thead th {\n",
       "        text-align: right;\n",
       "    }\n",
       "</style>\n",
       "<table border=\"1\" class=\"dataframe\">\n",
       "  <thead>\n",
       "    <tr style=\"text-align: right;\">\n",
       "      <th></th>\n",
       "      <th>datetime</th>\n",
       "      <th>value</th>\n",
       "    </tr>\n",
       "  </thead>\n",
       "  <tbody>\n",
       "    <tr>\n",
       "      <th>0</th>\n",
       "      <td>2020-04-14 00:00:00</td>\n",
       "      <td>100.0</td>\n",
       "    </tr>\n",
       "    <tr>\n",
       "      <th>1</th>\n",
       "      <td>2020-04-14 00:01:00</td>\n",
       "      <td>100.0</td>\n",
       "    </tr>\n",
       "    <tr>\n",
       "      <th>2</th>\n",
       "      <td>2020-04-14 00:02:00</td>\n",
       "      <td>100.0</td>\n",
       "    </tr>\n",
       "    <tr>\n",
       "      <th>3</th>\n",
       "      <td>2020-04-14 00:03:00</td>\n",
       "      <td>100.0</td>\n",
       "    </tr>\n",
       "    <tr>\n",
       "      <th>4</th>\n",
       "      <td>2020-04-14 00:04:00</td>\n",
       "      <td>100.0</td>\n",
       "    </tr>\n",
       "  </tbody>\n",
       "</table>\n",
       "</div>"
      ],
      "text/plain": [
       "              datetime  value\n",
       "0  2020-04-14 00:00:00  100.0\n",
       "1  2020-04-14 00:01:00  100.0\n",
       "2  2020-04-14 00:02:00  100.0\n",
       "3  2020-04-14 00:03:00  100.0\n",
       "4  2020-04-14 00:04:00  100.0"
      ]
     },
     "execution_count": 63,
     "metadata": {},
     "output_type": "execute_result"
    }
   ],
   "source": [
    "df.head()"
   ]
  },
  {
   "cell_type": "code",
   "execution_count": 64,
   "id": "legitimate-winter",
   "metadata": {},
   "outputs": [],
   "source": [
    "df.set_index('datetime', inplace=True)"
   ]
  },
  {
   "cell_type": "code",
   "execution_count": 65,
   "id": "oriented-candidate",
   "metadata": {},
   "outputs": [
    {
     "data": {
      "text/html": [
       "<div>\n",
       "<style scoped>\n",
       "    .dataframe tbody tr th:only-of-type {\n",
       "        vertical-align: middle;\n",
       "    }\n",
       "\n",
       "    .dataframe tbody tr th {\n",
       "        vertical-align: top;\n",
       "    }\n",
       "\n",
       "    .dataframe thead th {\n",
       "        text-align: right;\n",
       "    }\n",
       "</style>\n",
       "<table border=\"1\" class=\"dataframe\">\n",
       "  <thead>\n",
       "    <tr style=\"text-align: right;\">\n",
       "      <th></th>\n",
       "      <th>value</th>\n",
       "    </tr>\n",
       "    <tr>\n",
       "      <th>datetime</th>\n",
       "      <th></th>\n",
       "    </tr>\n",
       "  </thead>\n",
       "  <tbody>\n",
       "    <tr>\n",
       "      <th>2020-04-14 00:00:00</th>\n",
       "      <td>100.0</td>\n",
       "    </tr>\n",
       "    <tr>\n",
       "      <th>2020-04-14 00:01:00</th>\n",
       "      <td>100.0</td>\n",
       "    </tr>\n",
       "    <tr>\n",
       "      <th>2020-04-14 00:02:00</th>\n",
       "      <td>100.0</td>\n",
       "    </tr>\n",
       "    <tr>\n",
       "      <th>2020-04-14 00:03:00</th>\n",
       "      <td>100.0</td>\n",
       "    </tr>\n",
       "    <tr>\n",
       "      <th>2020-04-14 00:04:00</th>\n",
       "      <td>100.0</td>\n",
       "    </tr>\n",
       "  </tbody>\n",
       "</table>\n",
       "</div>"
      ],
      "text/plain": [
       "                     value\n",
       "datetime                  \n",
       "2020-04-14 00:00:00  100.0\n",
       "2020-04-14 00:01:00  100.0\n",
       "2020-04-14 00:02:00  100.0\n",
       "2020-04-14 00:03:00  100.0\n",
       "2020-04-14 00:04:00  100.0"
      ]
     },
     "execution_count": 65,
     "metadata": {},
     "output_type": "execute_result"
    }
   ],
   "source": [
    "df.to"
   ]
  },
  {
   "cell_type": "code",
   "execution_count": 71,
   "id": "greek-racing",
   "metadata": {},
   "outputs": [],
   "source": [
    "df.index = pd.to_datetime(df.index)"
   ]
  },
  {
   "cell_type": "code",
   "execution_count": 72,
   "id": "honey-testing",
   "metadata": {},
   "outputs": [
    {
     "data": {
      "text/plain": [
       "194004"
      ]
     },
     "execution_count": 72,
     "metadata": {},
     "output_type": "execute_result"
    }
   ],
   "source": [
    "len(df)"
   ]
  },
  {
   "cell_type": "code",
   "execution_count": 73,
   "id": "legendary-bosnia",
   "metadata": {},
   "outputs": [],
   "source": [
    "market_end_df = df.between_time('00:04:00', '00:04:00')"
   ]
  },
  {
   "cell_type": "code",
   "execution_count": 74,
   "id": "characteristic-variation",
   "metadata": {},
   "outputs": [
    {
     "data": {
      "text/plain": [
       "125"
      ]
     },
     "execution_count": 74,
     "metadata": {},
     "output_type": "execute_result"
    }
   ],
   "source": [
    "len(market_end_df)"
   ]
  },
  {
   "cell_type": "code",
   "execution_count": 75,
   "id": "simplified-horizontal",
   "metadata": {},
   "outputs": [
    {
     "data": {
      "text/html": [
       "<div>\n",
       "<style scoped>\n",
       "    .dataframe tbody tr th:only-of-type {\n",
       "        vertical-align: middle;\n",
       "    }\n",
       "\n",
       "    .dataframe tbody tr th {\n",
       "        vertical-align: top;\n",
       "    }\n",
       "\n",
       "    .dataframe thead th {\n",
       "        text-align: right;\n",
       "    }\n",
       "</style>\n",
       "<table border=\"1\" class=\"dataframe\">\n",
       "  <thead>\n",
       "    <tr style=\"text-align: right;\">\n",
       "      <th></th>\n",
       "      <th>value</th>\n",
       "    </tr>\n",
       "    <tr>\n",
       "      <th>datetime</th>\n",
       "      <th></th>\n",
       "    </tr>\n",
       "  </thead>\n",
       "  <tbody>\n",
       "    <tr>\n",
       "      <th>2020-04-14 00:04:00</th>\n",
       "      <td>100.000000</td>\n",
       "    </tr>\n",
       "    <tr>\n",
       "      <th>2020-04-15 00:04:00</th>\n",
       "      <td>97.654125</td>\n",
       "    </tr>\n",
       "    <tr>\n",
       "      <th>2020-04-16 00:04:00</th>\n",
       "      <td>96.457240</td>\n",
       "    </tr>\n",
       "    <tr>\n",
       "      <th>2020-04-17 00:04:00</th>\n",
       "      <td>98.830204</td>\n",
       "    </tr>\n",
       "    <tr>\n",
       "      <th>2020-04-21 00:04:00</th>\n",
       "      <td>96.932749</td>\n",
       "    </tr>\n",
       "  </tbody>\n",
       "</table>\n",
       "</div>"
      ],
      "text/plain": [
       "                          value\n",
       "datetime                       \n",
       "2020-04-14 00:04:00  100.000000\n",
       "2020-04-15 00:04:00   97.654125\n",
       "2020-04-16 00:04:00   96.457240\n",
       "2020-04-17 00:04:00   98.830204\n",
       "2020-04-21 00:04:00   96.932749"
      ]
     },
     "execution_count": 75,
     "metadata": {},
     "output_type": "execute_result"
    }
   ],
   "source": [
    "market_end_df.head()"
   ]
  },
  {
   "cell_type": "code",
   "execution_count": null,
   "id": "ancient-version",
   "metadata": {},
   "outputs": [],
   "source": []
  }
 ],
 "metadata": {
  "kernelspec": {
   "display_name": "Python 3",
   "language": "python",
   "name": "python3"
  },
  "language_info": {
   "codemirror_mode": {
    "name": "ipython",
    "version": 3
   },
   "file_extension": ".py",
   "mimetype": "text/x-python",
   "name": "python",
   "nbconvert_exporter": "python",
   "pygments_lexer": "ipython3",
   "version": "3.7.9"
  }
 },
 "nbformat": 4,
 "nbformat_minor": 5
}
