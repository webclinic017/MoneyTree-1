{
 "cells": [
  {
   "cell_type": "code",
   "execution_count": 1,
   "id": "simplified-inspection",
   "metadata": {},
   "outputs": [
    {
     "name": "stdout",
     "output_type": "stream",
     "text": [
      "3.7.9 (default, Feb 19 2021, 20:27:40) \n",
      "[Clang 12.0.0 (clang-1200.0.32.29)]\n"
     ]
    }
   ],
   "source": [
    "import sys\n",
    "print(sys.version)"
   ]
  },
  {
   "cell_type": "code",
   "execution_count": 2,
   "id": "familiar-restaurant",
   "metadata": {},
   "outputs": [],
   "source": [
    "import os, sqlite3, config, sys\n",
    "import pandas as pd\n",
    "import backtrader as bt\n",
    "from report import Cerebro\n",
    "from strategy_classes import CrossOver, OpeningRangeBreakout"
   ]
  },
  {
   "cell_type": "code",
   "execution_count": 8,
   "id": "timely-carbon",
   "metadata": {},
   "outputs": [],
   "source": [
    "stock_id = 9395\n",
    "strategy = \"crossover\"\n",
    "start_date = '2020-04-20'\n",
    "end_date = '2020-07-20'\n",
    "set_cash = 30000"
   ]
  },
  {
   "cell_type": "code",
   "execution_count": 4,
   "id": "arabic-attitude",
   "metadata": {},
   "outputs": [],
   "source": [
    "conn = sqlite3.connect(config.DB_FILE)"
   ]
  },
  {
   "cell_type": "code",
   "execution_count": 14,
   "id": "underlying-serbia",
   "metadata": {},
   "outputs": [],
   "source": [
    "def saveplots(cerebro, numfigs=1, iplot=True, start=None, end=None,\n",
    "             width=16, height=9, dpi=300, tight=True, use=None, file_path = '', **kwargs):\n",
    "\n",
    "        from backtrader import plot\n",
    "        if cerebro.p.oldsync:\n",
    "            plotter = plot.Plot_OldSync(**kwargs)\n",
    "        else:\n",
    "            plotter = plot.Plot(**kwargs)\n",
    "\n",
    "        figs = []\n",
    "        for stratlist in cerebro.runstrats:\n",
    "            for si, strat in enumerate(stratlist):\n",
    "                rfig = plotter.plot(strat, figid=si * 100,\n",
    "                                    numfigs=numfigs, iplot=iplot,\n",
    "                                    start=start, end=end, use=use)\n",
    "                figs.append(rfig)\n",
    "\n",
    "        for fig in figs:\n",
    "            for f in fig:\n",
    "                f.savefig(file_path, bbox_inches='tight')\n",
    "        return figs"
   ]
  },
  {
   "cell_type": "code",
   "execution_count": 15,
   "id": "acceptable-collins",
   "metadata": {},
   "outputs": [],
   "source": [
    "def backtest(stock_id, strategy, conn, start_date=None, end_date=None, \\\n",
    "             open_range=None, liquidate_time='15:00:00', set_cash=25000):\n",
    "    \n",
    "    print(f\"== Testing {stock_id} ==\")\n",
    "    \n",
    "    df = pd.read_sql(\"\"\"\n",
    "        SELECT datetime, open, high, low, close, volume\n",
    "        FROM stock_price_minute\n",
    "        WHERE stock_id = :stock_id\n",
    "        AND strftime('%Y-%m-%d', datetime) >= :start_date\n",
    "        AND strftime('%Y-%m-%d', datetime) <= :end_date\n",
    "        ORDER BY datetime ASC\n",
    "        LIMIT 10000\n",
    "        \"\"\", conn, params={\"stock_id\":9395,\"start_date\":start_date, \\\n",
    "                           \"end_date\":end_date}, index_col='datetime', parse_dates=['datetime'])\n",
    "    data = df.between_time('09:30:00', '16:00:00')\n",
    "    \n",
    "    # initialize Cerebro engine, extende with report method\n",
    "    cerebro = Cerebro()\n",
    "    cerebro.broker.setcash(set_cash)\n",
    "    cerebro.addsizer(bt.sizers.PercentSizer, percents=95)\n",
    "    \n",
    "    # add data\n",
    "    feed = bt.feeds.PandasData(dataname=df)\n",
    "    cerebro.adddata(feed)\n",
    "    \n",
    "    if strategy == 'opening_range_breakout':\n",
    "        cerebro.addstrategy(strategy=OpeningRangeBreakout)\n",
    "    else:\n",
    "        # add Golden Cross strategy\n",
    "        params = (('fast', 50),('slow', 200))\n",
    "        cerebro.addstrategy(strategy=CrossOver, **dict(params))\n",
    "        \n",
    "    cerebro.run()\n",
    "    \n",
    "    saveplots(cerebro, file_path = 'backtest_output.png')\n",
    "    \n",
    "    cerebro.report(memo='run_id',\n",
    "               outputdir='/Users/kylespringfield/Dev/MoneyTree/backtest_reports')"
   ]
  },
  {
   "cell_type": "code",
   "execution_count": 16,
   "id": "known-patrol",
   "metadata": {
    "scrolled": true
   },
   "outputs": [
    {
     "name": "stdout",
     "output_type": "stream",
     "text": [
      "== Testing 9395 ==\n",
      "2020-04-20 - 10:20:00, *** MKT: BTC/USD BUY: 407.5731379270401\n",
      "2020-04-20 - 12:47:00, *** MKT: BTC/USD SELL: 407.5731379270401\n",
      "2020-04-20 - 18:41:00, *** MKT: BTC/USD BUY: 411.21544648468074\n",
      "2020-04-20 - 20:43:00, *** MKT: BTC/USD SELL: 411.21544648468074\n",
      "2020-04-20 - 23:08:00, *** MKT: BTC/USD BUY: 411.3156162524097\n",
      "2020-04-20 - 23:09:00, *** MKT: BTC/USD SELL: 411.3156162524097\n",
      "2020-04-21 - 08:36:00, *** MKT: BTC/USD BUY: 411.44925188095283\n",
      "2020-04-21 - 10:11:00, *** MKT: BTC/USD SELL: 411.44925188095283\n",
      "2020-04-21 - 13:32:00, *** MKT: BTC/USD BUY: 417.00904629093924\n",
      "2020-04-21 - 16:15:00, *** MKT: BTC/USD SELL: 417.00904629093924\n",
      "2020-04-21 - 17:45:00, *** MKT: BTC/USD BUY: 415.88171378345976\n",
      "2020-04-22 - 07:10:00, *** MKT: BTC/USD SELL: 415.88171378345976\n",
      "2020-04-22 - 08:59:00, *** MKT: BTC/USD BUY: 413.79949448436855\n",
      "2020-04-22 - 11:12:00, *** MKT: BTC/USD SELL: 413.79949448436855\n",
      "2020-04-22 - 11:59:00, *** MKT: BTC/USD BUY: 413.04781923305734\n",
      "2020-04-22 - 16:36:00, *** MKT: BTC/USD SELL: 413.04781923305734\n",
      "2020-04-22 - 22:27:00, *** MKT: BTC/USD BUY: 414.9018278583114\n",
      "2020-04-22 - 23:11:00, *** MKT: BTC/USD SELL: 414.9018278583114\n",
      "2020-04-22 - 23:15:00, *** MKT: BTC/USD BUY: 414.9018278583114\n",
      "2020-04-22 - 23:16:00, *** MKT: BTC/USD SELL: 414.9018278583114\n",
      "2020-04-22 - 23:17:00, *** MKT: BTC/USD BUY: 414.9018278583114\n",
      "2020-04-23 - 04:06:00, *** MKT: BTC/USD SELL: 414.9018278583114\n",
      "2020-04-23 - 05:04:00, *** MKT: BTC/USD BUY: 414.2221561344809\n",
      "2020-04-23 - 06:50:00, *** MKT: BTC/USD SELL: 414.2221561344809\n",
      "2020-04-23 - 07:28:00, *** MKT: BTC/USD BUY: 413.0085882274178\n",
      "2020-04-23 - 08:20:00, *** MKT: BTC/USD SELL: 413.0085882274178\n",
      "2020-04-23 - 08:38:00, *** MKT: BTC/USD BUY: 411.40617412637243\n",
      "2020-04-23 - 12:46:00, *** MKT: BTC/USD SELL: 411.40617412637243\n",
      "2020-04-24 - 04:23:00, *** MKT: BTC/USD BUY: 415.8500233937478\n",
      "2020-04-24 - 18:08:00, *** MKT: BTC/USD SELL: 415.8500233937478\n",
      "2020-04-27 - 04:03:00, *** MKT: BTC/USD BUY: 409.80856588605195\n",
      "2020-04-27 - 06:54:00, *** MKT: BTC/USD SELL: 409.80856588605195\n",
      "2020-04-27 - 11:51:00, *** MKT: BTC/USD BUY: 410.5249840032141\n",
      "2020-04-27 - 12:15:00, *** MKT: BTC/USD SELL: 410.5249840032141\n",
      "2020-04-27 - 14:29:00, *** MKT: BTC/USD BUY: 409.7881144751761\n",
      "2020-04-27 - 21:35:00, *** MKT: BTC/USD SELL: 409.7881144751761\n",
      "2020-04-27 - 22:53:00, *** MKT: BTC/USD BUY: 409.50767300962923\n",
      "2020-04-27 - 22:56:00, *** MKT: BTC/USD SELL: 409.50767300962923\n",
      "2020-04-27 - 23:15:00, *** MKT: BTC/USD BUY: 409.50767300962923\n",
      "2020-04-28 - 08:18:00, *** MKT: BTC/USD SELL: 409.50767300962923\n",
      "2020-04-28 - 14:14:00, *** MKT: BTC/USD BUY: 414.5652708813281\n",
      "2020-04-28 - 15:15:00, *** MKT: BTC/USD SELL: 414.5652708813281\n",
      "2020-04-28 - 17:51:00, *** MKT: BTC/USD BUY: 415.2411764424866\n",
      "2020-04-28 - 19:20:00, *** MKT: BTC/USD SELL: 415.2411764424866\n",
      "2020-04-28 - 19:37:00, *** MKT: BTC/USD BUY: 413.6804530781102\n",
      "2020-04-28 - 22:44:00, *** MKT: BTC/USD SELL: 413.6804530781102\n",
      "2020-04-28 - 22:58:00, *** MKT: BTC/USD BUY: 413.6885621467962\n",
      "2020-04-29 - 06:24:00, *** MKT: BTC/USD SELL: 413.6885621467962\n",
      "2020-04-29 - 08:41:00, *** MKT: BTC/USD BUY: 410.88386915700755\n",
      "2020-04-29 - 10:38:00, *** MKT: BTC/USD SELL: 410.88386915700755\n",
      "See /Users/kylespringfield/Dev/MoneyTree/backtest_reports/report.pdf for report with backtest results.\n"
     ]
    }
   ],
   "source": [
    "backtest(stock_id, strategy, conn, start_date=start_date, end_date=end_date, \\\n",
    "        set_cash=set_cash)"
   ]
  },
  {
   "cell_type": "code",
   "execution_count": null,
   "id": "recreational-passion",
   "metadata": {},
   "outputs": [],
   "source": []
  },
  {
   "cell_type": "code",
   "execution_count": null,
   "id": "stylish-rendering",
   "metadata": {},
   "outputs": [],
   "source": []
  },
  {
   "cell_type": "code",
   "execution_count": null,
   "id": "acquired-saver",
   "metadata": {},
   "outputs": [],
   "source": []
  },
  {
   "cell_type": "markdown",
   "id": "considered-nirvana",
   "metadata": {},
   "source": [
    "### sandbox"
   ]
  },
  {
   "cell_type": "code",
   "execution_count": null,
   "id": "straight-internet",
   "metadata": {},
   "outputs": [],
   "source": [
    "start_date = '2020-04-20'\n",
    "end_date = '2020-04-22'"
   ]
  },
  {
   "cell_type": "code",
   "execution_count": null,
   "id": "heard-interaction",
   "metadata": {},
   "outputs": [],
   "source": [
    "conn = sqlite3.connect(config.DB_FILE)"
   ]
  },
  {
   "cell_type": "code",
   "execution_count": null,
   "id": "static-greensboro",
   "metadata": {},
   "outputs": [],
   "source": [
    "df = pd.read_sql(\"\"\"\n",
    "        SELECT datetime, open, high, low, close, volume\n",
    "        FROM stock_price_minute\n",
    "        WHERE stock_id = :stock_id\n",
    "        AND strftime('%Y-%m-%d', datetime) >= :start_date\n",
    "        AND strftime('%Y-%m-%d', datetime) <= :end_date\n",
    "        ORDER BY datetime ASC\n",
    "        LIMIT 10000\n",
    "    \"\"\", conn, params={\"stock_id\":9395,\"start_date\":start_date, \\\n",
    "                       \"end_date\":end_date}, index_col='datetime', parse_dates=['datetime'])\n",
    "df.head()"
   ]
  },
  {
   "cell_type": "code",
   "execution_count": null,
   "id": "indirect-salvation",
   "metadata": {},
   "outputs": [],
   "source": [
    "df = df.between_time('09:30:00', '16:00:00')"
   ]
  },
  {
   "cell_type": "code",
   "execution_count": null,
   "id": "legal-missile",
   "metadata": {},
   "outputs": [],
   "source": []
  },
  {
   "cell_type": "code",
   "execution_count": null,
   "id": "wrapped-consensus",
   "metadata": {},
   "outputs": [],
   "source": []
  },
  {
   "cell_type": "code",
   "execution_count": null,
   "id": "honest-enclosure",
   "metadata": {},
   "outputs": [],
   "source": [
    "kpi = {# PnL\n",
    "       'start_cash': self.get_startcash(),\n",
    "       'rpl': rpl,\n",
    "       'result_won_trades': trade_analysis.won.pnl.total,\n",
    "       'result_lost_trades': trade_analysis.lost.pnl.total,\n",
    "       'profit_factor': (-1 * trade_analysis.won.pnl.total / trade_analysis.lost.pnl.total),\n",
    "       'rpl_per_trade': rpl / trades_closed,\n",
    "       'total_return': 100 * total_return,\n",
    "       'annual_return': (100 * (1 + total_return)**(365.25 / bt_period_days) - 100),\n",
    "       'max_money_drawdown': drawdown['max']['moneydown'],\n",
    "       'max_pct_drawdown': drawdown['max']['drawdown'],\n",
    "       # trades\n",
    "       'total_number_trades': total_number_trades,\n",
    "       'trades_closed': trades_closed,\n",
    "       'pct_winning': 100 * trade_analysis.won.total / trades_closed,\n",
    "       'pct_losing': 100 * trade_analysis.lost.total / trades_closed,\n",
    "       'avg_money_winning': trade_analysis.won.pnl.average,\n",
    "       'avg_money_losing':  trade_analysis.lost.pnl.average,\n",
    "       'best_winning_trade': trade_analysis.won.pnl.max,\n",
    "       'worst_losing_trade': trade_analysis.lost.pnl.max,\n",
    "       #  performance\n",
    "       'sharpe_ratio': sharpe_ratio,\n",
    "       'sqn_score': sqn_score,\n",
    "       'sqn_human': self._sqn2rating(sqn_score)\n",
    "       }"
   ]
  },
  {
   "cell_type": "code",
   "execution_count": null,
   "id": "disciplinary-anime",
   "metadata": {},
   "outputs": [],
   "source": []
  }
 ],
 "metadata": {
  "kernelspec": {
   "display_name": "Python 3",
   "language": "python",
   "name": "python3"
  },
  "language_info": {
   "codemirror_mode": {
    "name": "ipython",
    "version": 3
   },
   "file_extension": ".py",
   "mimetype": "text/x-python",
   "name": "python",
   "nbconvert_exporter": "python",
   "pygments_lexer": "ipython3",
   "version": "3.7.9"
  }
 },
 "nbformat": 4,
 "nbformat_minor": 5
}
