{
 "cells": [
  {
   "cell_type": "code",
   "execution_count": null,
   "id": "simplified-inspection",
   "metadata": {},
   "outputs": [],
   "source": [
    "import sys\n",
    "print(sys.version)"
   ]
  },
  {
   "cell_type": "code",
   "execution_count": null,
   "id": "familiar-restaurant",
   "metadata": {},
   "outputs": [],
   "source": [
    "import os, sqlite3, config, sys\n",
    "import pandas as pd\n",
    "import numpy as np\n",
    "import backtrader as bt\n",
    "from report import Cerebro\n",
    "from strategy_classes import CrossOver, OpeningRangeBreakout"
   ]
  },
  {
   "cell_type": "code",
   "execution_count": null,
   "id": "brazilian-listening",
   "metadata": {},
   "outputs": [],
   "source": [
    "stock_id = 9395\n",
    "strategy = \"crossover\"\n",
    "start_date = '2020-04-20'\n",
    "end_date = '2020-07-20'\n",
    "set_cash = 30000"
   ]
  },
  {
   "cell_type": "code",
   "execution_count": null,
   "id": "double-sport",
   "metadata": {},
   "outputs": [],
   "source": [
    "conn = sqlite3.connect(config.DB_FILE)\n",
    "cursor = conn.cursor()"
   ]
  },
  {
   "cell_type": "code",
   "execution_count": null,
   "id": "wicked-skiing",
   "metadata": {},
   "outputs": [],
   "source": [
    "def saveplots(cerebro, numfigs=1, iplot=True, start=None, end=None,\n",
    "             width=16, height=9, dpi=300, tight=True, use=None, file_path = '', **kwargs):\n",
    "\n",
    "        from backtrader import plot\n",
    "        if cerebro.p.oldsync:\n",
    "            plotter = plot.Plot_OldSync(**kwargs)\n",
    "        else:\n",
    "            plotter = plot.Plot(**kwargs)\n",
    "\n",
    "        figs = []\n",
    "        for stratlist in cerebro.runstrats:\n",
    "            for si, strat in enumerate(stratlist):\n",
    "                rfig = plotter.plot(strat, figid=si * 100,\n",
    "                                    numfigs=numfigs, iplot=iplot,\n",
    "                                    start=start, end=end, use=use)\n",
    "                figs.append(rfig)\n",
    "\n",
    "        for fig in figs:\n",
    "            for f in fig:\n",
    "                f.savefig(file_path, bbox_inches='tight')\n",
    "        return figs"
   ]
  },
  {
   "cell_type": "code",
   "execution_count": null,
   "id": "acceptable-collins",
   "metadata": {},
   "outputs": [],
   "source": [
    "def backtest(stock_id, strategy, conn, start_date=None, end_date=None, \\\n",
    "             open_range=None, run_id=None,liquidate_time='15:00:00', set_cash=25000):\n",
    "    \n",
    "    print(f\"== Testing {stock_id} ==\")\n",
    "    \n",
    "    df = pd.read_sql(\"\"\"\n",
    "        SELECT datetime, open, high, low, close, volume\n",
    "        FROM stock_price_minute\n",
    "        WHERE stock_id = :stock_id\n",
    "        AND strftime('%Y-%m-%d', datetime) >= :start_date\n",
    "        AND strftime('%Y-%m-%d', datetime) <= :end_date\n",
    "        ORDER BY datetime ASC\n",
    "        LIMIT 10000\n",
    "        \"\"\", conn, params={\"stock_id\":stock_id,\"start_date\":start_date, \\\n",
    "                           \"end_date\":end_date}, index_col='datetime', parse_dates=['datetime'])\n",
    "    data = df.between_time('09:30:00', '16:00:00')\n",
    "    \n",
    "    # initialize Cerebro engine, extende with report method\n",
    "    cerebro = Cerebro()\n",
    "    cerebro.broker.setcash(set_cash)\n",
    "    cerebro.addsizer(bt.sizers.PercentSizer, percents=95)\n",
    "    \n",
    "    # add data\n",
    "    feed = bt.feeds.PandasData(dataname=df)\n",
    "    cerebro.adddata(feed)\n",
    "    \n",
    "    if strategy == 'opening_range_breakout':\n",
    "        cerebro.addstrategy(strategy=OpeningRangeBreakout)\n",
    "    else:\n",
    "        # add Golden Cross strategy\n",
    "        params = (('fast', 50),('slow', 200))\n",
    "        cerebro.addstrategy(strategy=CrossOver, **dict(params))\n",
    "        \n",
    "    cerebro.run()\n",
    "    \n",
    "    saveplots(cerebro, file_path = 'backtest_output.png')\n",
    "    \n",
    "    cerebro.report(memo=f'{stock_id} | {run_id}',\n",
    "               outputdir='/Users/kylespringfield/Dev/MoneyTree/backtest_reports')"
   ]
  },
  {
   "cell_type": "code",
   "execution_count": null,
   "id": "sticky-parade",
   "metadata": {
    "scrolled": true
   },
   "outputs": [],
   "source": [
    "backtest(stock_id, strategy, conn, start_date=start_date, end_date=end_date, \\\n",
    "         run_id=run_id, set_cash=set_cash)"
   ]
  },
  {
   "cell_type": "code",
   "execution_count": null,
   "id": "first-casino",
   "metadata": {},
   "outputs": [],
   "source": []
  },
  {
   "cell_type": "code",
   "execution_count": null,
   "id": "nasty-convergence",
   "metadata": {},
   "outputs": [],
   "source": []
  },
  {
   "cell_type": "code",
   "execution_count": null,
   "id": "brutal-cloud",
   "metadata": {},
   "outputs": [],
   "source": []
  },
  {
   "cell_type": "code",
   "execution_count": null,
   "id": "mighty-uruguay",
   "metadata": {},
   "outputs": [],
   "source": []
  },
  {
   "cell_type": "markdown",
   "id": "excellent-optics",
   "metadata": {},
   "source": [
    "### sandbox"
   ]
  },
  {
   "cell_type": "code",
   "execution_count": null,
   "id": "infinite-shame",
   "metadata": {},
   "outputs": [],
   "source": [
    "start_date = '2020-04-20'\n",
    "end_date = '2020-04-22'"
   ]
  },
  {
   "cell_type": "code",
   "execution_count": null,
   "id": "qualified-professional",
   "metadata": {},
   "outputs": [],
   "source": [
    "df = pd.read_sql(\"\"\"\n",
    "        SELECT datetime, open, high, low, close, volume\n",
    "        FROM stock_price_minute\n",
    "        WHERE stock_id = :stock_id\n",
    "        AND strftime('%Y-%m-%d', datetime) >= :start_date\n",
    "        AND strftime('%Y-%m-%d', datetime) <= :end_date\n",
    "        ORDER BY datetime ASC\n",
    "        LIMIT 10000\n",
    "    \"\"\", conn, params={\"stock_id\":9395,\"start_date\":start_date, \\\n",
    "                       \"end_date\":end_date}, index_col='datetime', parse_dates=['datetime'])\n",
    "df.head()"
   ]
  },
  {
   "cell_type": "code",
   "execution_count": null,
   "id": "waiting-genesis",
   "metadata": {},
   "outputs": [],
   "source": [
    "df = df.between_time('09:30:00', '16:00:00')"
   ]
  },
  {
   "cell_type": "code",
   "execution_count": null,
   "id": "collect-alarm",
   "metadata": {},
   "outputs": [],
   "source": []
  },
  {
   "cell_type": "code",
   "execution_count": null,
   "id": "removable-scope",
   "metadata": {},
   "outputs": [],
   "source": []
  },
  {
   "cell_type": "code",
   "execution_count": null,
   "id": "exciting-original",
   "metadata": {},
   "outputs": [],
   "source": [
    "run_id = 1"
   ]
  },
  {
   "cell_type": "code",
   "execution_count": null,
   "id": "historical-fabric",
   "metadata": {},
   "outputs": [],
   "source": [
    "# PnL\n",
    "start_cash = 20000\n",
    "rpl = 1644.4\n",
    "result_won_trades = 3587.16\n",
    "result_lost_trades = -1942.77\n",
    "profit_factor = 1.84\n",
    "rpl_per_trade = 42.2\n",
    "total_return = .0657\n",
    "annual_return = .3814\n",
    "max_money_drawdown = 907.8\n",
    "max_pct_drawdown = .0349\n",
    "# Trades\n",
    "total_number_trades = 39\n",
    "trades_closed = 35\n",
    "pct_winning = .6153\n",
    "pct_losing = .3846\n",
    "avg_money_winning = 149.46\n",
    "avg_money_losing = -129.52\n",
    "best_winning_trade = 351.38\n",
    "worst_losing_trade = -315.37\n",
    "# KPIs\n",
    "sharpe_ratio = 1.13\n",
    "sqn_score = 1.58\n",
    "sqn_human = \"Poor\"\n"
   ]
  },
  {
   "cell_type": "code",
   "execution_count": null,
   "id": "contained-translator",
   "metadata": {},
   "outputs": [],
   "source": [
    "kpis = {# PnL\n",
    "       'start_cash': start_cash,\n",
    "       'rpl': rpl,\n",
    "       'result_won_trades': result_won_trades,\n",
    "       'result_lost_trades': result_lost_trades,\n",
    "       'profit_factor': profit_factor,\n",
    "       'rpl_per_trade': rpl_per_trade,\n",
    "       'total_return': total_return,\n",
    "       'annual_return': annual_return,\n",
    "       'max_money_drawdown': max_money_drawdown,\n",
    "       'max_pct_drawdown': max_pct_drawdown,\n",
    "       # trades\n",
    "       'total_number_trades': total_number_trades,\n",
    "       'trades_closed': trades_closed,\n",
    "       'pct_winning': pct_winning,\n",
    "       'pct_losing': pct_losing,\n",
    "       'avg_money_winning': avg_money_winning,\n",
    "       'avg_money_losing':  avg_money_losing,\n",
    "       'best_winning_trade': best_winning_trade,\n",
    "       'worst_losing_trade': worst_losing_trade,\n",
    "       #  performance\n",
    "       'sharpe_ratio': sharpe_ratio,\n",
    "       'sqn_score': sqn_score,\n",
    "       'sqn_human': sqn_human\n",
    "       }"
   ]
  },
  {
   "cell_type": "code",
   "execution_count": null,
   "id": "becoming-philip",
   "metadata": {},
   "outputs": [],
   "source": [
    "kpis['run_id'] = run_id\n",
    "kpis"
   ]
  },
  {
   "cell_type": "code",
   "execution_count": null,
   "id": "eastern-democrat",
   "metadata": {},
   "outputs": [],
   "source": [
    "rows =[]"
   ]
  },
  {
   "cell_type": "code",
   "execution_count": null,
   "id": "sonic-sheet",
   "metadata": {},
   "outputs": [],
   "source": [
    "rows.append(kpis)"
   ]
  },
  {
   "cell_type": "code",
   "execution_count": null,
   "id": "tested-librarian",
   "metadata": {},
   "outputs": [],
   "source": [
    "kpis_df = pd.DataFrame.from_dict(rows)"
   ]
  },
  {
   "cell_type": "code",
   "execution_count": null,
   "id": "retired-restriction",
   "metadata": {},
   "outputs": [],
   "source": [
    "kpis_df"
   ]
  },
  {
   "cell_type": "code",
   "execution_count": null,
   "id": "broad-culture",
   "metadata": {},
   "outputs": [],
   "source": [
    "kpis_df = kpis_df[['run_id', 'start_cash', 'rpl', 'result_won_trades', 'result_lost_trades', 'profit_factor', 'rpl_per_trade', 'total_return', 'annual_return', 'max_money_drawdown', 'max_pct_drawdown', 'total_number_trades', 'trades_closed', 'pct_winning', 'pct_losing', 'avg_money_winning', 'avg_money_losing', 'best_winning_trade', 'worst_losing_trade', 'sharpe_ratio', 'sqn_score', 'sqn_human']]"
   ]
  },
  {
   "cell_type": "code",
   "execution_count": null,
   "id": "extraordinary-tract",
   "metadata": {},
   "outputs": [],
   "source": [
    "kpis_df"
   ]
  },
  {
   "cell_type": "code",
   "execution_count": null,
   "id": "welsh-passage",
   "metadata": {},
   "outputs": [],
   "source": []
  },
  {
   "cell_type": "code",
   "execution_count": null,
   "id": "solved-adjustment",
   "metadata": {},
   "outputs": [],
   "source": [
    "cursor.execute(\"\"\"\n",
    "    INSERT INTO backtest_reports \n",
    "    (run_id, start_cash, rpl, result_won_trades, result_lost_trades, profit_factor, rpl_per_trade,\n",
    "     total_return, annual_return, max_money_drawdown, max_pct_drawdown, total_number_trades, trades_closed,\n",
    "     pct_winning, pct_losing, avg_money_winning, avg_money_losing, best_winning_trade, worst_losing_trade,\n",
    "     sharpe_ratio, sqn_score, sqn_human) VALUES (?,?,?,?,?,?,?,?,?,?,?,?,?,?,?,?,?,?,?,?,?,?)\n",
    "     \"\"\", (int(kpis_df.run_id[0]), int(kpis_df.start_cash[0]), kpis_df.rpl[0], kpis_df.result_won_trades[0], kpis_df.result_lost_trades[0],\n",
    "           kpis_df.profit_factor[0], kpis_df.rpl_per_trade[0], kpis_df.total_return[0], kpis_df.annual_return[0],\n",
    "           kpis_df.max_money_drawdown[0], kpis_df.max_pct_drawdown[0], int(kpis_df.total_number_trades[0]),\n",
    "           int(kpis_df.trades_closed[0]), kpis_df.pct_winning[0], kpis_df.pct_losing[0], kpis_df.avg_money_winning[0],\n",
    "           kpis_df.avg_money_losing[0], kpis_df.best_winning_trade[0], kpis_df.worst_losing_trade[0],\n",
    "           kpis_df.sharpe_ratio[0], kpis_df.sqn_score[0], kpis_df.sqn_human[0]))"
   ]
  },
  {
   "cell_type": "code",
   "execution_count": null,
   "id": "federal-scale",
   "metadata": {},
   "outputs": [],
   "source": [
    "conn.commit()"
   ]
  },
  {
   "cell_type": "code",
   "execution_count": null,
   "id": "fitting-sheet",
   "metadata": {},
   "outputs": [],
   "source": [
    "q = \"\"\"\n",
    "    SELECT *\n",
    "    FROM backtest_reports\n",
    "    \"\"\"\n",
    "\n",
    "df = pd.read_sql(q, conn)\n",
    "df.head(20)"
   ]
  },
  {
   "cell_type": "code",
   "execution_count": null,
   "id": "gentle-crown",
   "metadata": {},
   "outputs": [],
   "source": []
  }
 ],
 "metadata": {
  "kernelspec": {
   "display_name": "Python 3",
   "language": "python",
   "name": "python3"
  },
  "language_info": {
   "codemirror_mode": {
    "name": "ipython",
    "version": 3
   },
   "file_extension": ".py",
   "mimetype": "text/x-python",
   "name": "python",
   "nbconvert_exporter": "python",
   "pygments_lexer": "ipython3",
   "version": "3.7.9"
  }
 },
 "nbformat": 4,
 "nbformat_minor": 5
}
